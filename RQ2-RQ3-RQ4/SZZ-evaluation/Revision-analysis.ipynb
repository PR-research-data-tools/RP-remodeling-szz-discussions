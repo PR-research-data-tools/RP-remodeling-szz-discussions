{
 "cells": [
  {
   "cell_type": "code",
   "execution_count": 5,
   "id": "combined-affect",
   "metadata": {},
   "outputs": [],
   "source": [
    "import os\n",
    "import re\n",
    "import pandas as pd"
   ]
  },
  {
   "cell_type": "code",
   "execution_count": 6,
   "id": "postal-repository",
   "metadata": {},
   "outputs": [
    {
     "name": "stdout",
     "output_type": "stream",
     "text": [
      "       Unnamed: 0   fix_id                                     modified_files  \\\n",
      "0               0   740304  ['toolkit/crashreporter/client/crashreporter_o...   \n",
      "1               1  1191862  ['widget/WidgetEventImpl.cpp', 'widget/cocoa/n...   \n",
      "2               2  1362483                                                 []   \n",
      "3               3  1363276  ['dom/media/platforms/android/RemoteDataDecode...   \n",
      "4               4  1399651         ['browser/base/content/browser-places.js']   \n",
      "...           ...      ...                                                ...   \n",
      "12467       12467  1806167  ['layout/reftests/xul/accesskey-ref.xhtml', 'l...   \n",
      "12468       12468  1806199                  ['tools/lint/test/test_isort.py']   \n",
      "12469       12469  1806844           ['gfx/thebes/gfxMacPlatformFontList.mm']   \n",
      "12470       12470  1806944  ['testing/web-platform/meta/css/css-images/ima...   \n",
      "12471       12471  1807697                   ['browser/modules/webrtcUI.jsm']   \n",
      "\n",
      "                                        referenced_files  reference_counter  \\\n",
      "0      ['builds/worker/checkouts/gecko/toolkit/mozapp...                 13   \n",
      "1      ['situmam.blogspot.ca/2012/05/emacs-keybidings...                  3   \n",
      "2      ['comm-central/mailnews/db/gloda/modules/index...                 27   \n",
      "3      ['dom/media/platforms/android/RemoteDataDecode...                  1   \n",
      "4                                                     []                  0   \n",
      "...                                                  ...                ...   \n",
      "12467                                                 []                  0   \n",
      "12468  ['tools/lint/test/test_isort.py', 'python/mach...                  6   \n",
      "12469  ['firefox-source-docs.mozilla.org/testing/perf...                  2   \n",
      "12470  ['builds/worker/checkouts/gecko/xpcom/base/nsC...                 24   \n",
      "12471              ['jan-ivar.github.io/dummy/gdm.html']                  1   \n",
      "\n",
      "                                referenced_code_elements  \\\n",
      "0      ['25.693Z', '-Wpointer-arith', 'builds/worker/...   \n",
      "1      ['ctrl-H', 'gnome-settings-daemon', '`cmd_sele...   \n",
      "2      ['2018-12-10', '2019-05-22', '2019-08-18', 'ms...   \n",
      "3      ['reviewboard.mozilla.org/r/137396/diff/2-3/',...   \n",
      "4      ['hg.mozilla.org/mozilla-central/rev/8d2ff3d80...   \n",
      "...                                                  ...   \n",
      "12467  ['auto_nag', 'zh-TW', 'layout-reviewers', 'upl...   \n",
      "12468  ['treeherder.mozilla.org/intermittent-failures...   \n",
      "12469  ['www.mozilla.org/en-US/about/governance/polic...   \n",
      "12470  ['19.931Z', 'github.com/web-platform-tests/wpt...   \n",
      "12471  ['r=Gijs', 'macOS', 'QE', 'hg.mozilla.org/mozi...   \n",
      "\n",
      "                                       parsed_references  parsed_counter  \\\n",
      "0      ['toolkit/crashreporter/client/crashreporter_o...               3   \n",
      "1                                                     []               0   \n",
      "2                                                     []               0   \n",
      "3      ['dom/media/platforms/android/RemoteDataDecode...               1   \n",
      "4                                                     []               0   \n",
      "...                                                  ...             ...   \n",
      "12467                                                 []               0   \n",
      "12468                  ['tools/lint/test/test_isort.py']               1   \n",
      "12469                                                 []               0   \n",
      "12470  ['testing/web-platform/meta/css/css-images/ima...              21   \n",
      "12471                                                 []               0   \n",
      "\n",
      "                  bug_ids                                          bug_files  \\\n",
      "0                {688083}  ['browser/base/content/browser.js', 'toolkit/c...   \n",
      "1      {1052569, 1154183}  ['widget/WidgetEventImpl.cpp', 'dom/xbl/nsXBLW...   \n",
      "2               {1337872}                                                 []   \n",
      "3               {1257777}  ['widget/android/GeneratedJNIWrappers.cpp', 'm...   \n",
      "4               {1384953}  ['browser/themes/shared/toolbarbutton-icons.in...   \n",
      "...                   ...                                                ...   \n",
      "12467           {1799460}  ['accessible/base/nsAccessibilityService.cpp',...   \n",
      "12468           {1806109}  ['tools/lint/python/pylint_requirements.in', '...   \n",
      "12469           {1806140}  ['gfx/thebes/gfxMacPlatformFontList.mm', 'gfx/...   \n",
      "12470           {1806612}  ['testing/web-platform/meta/scheduler/post-tas...   \n",
      "12471           {1642138}  ['widget/cocoa/nsMenuBarX.mm', 'browser/base/c...   \n",
      "\n",
      "       ... has_valuable_reference  has_strict_repo_valuable_reference  \\\n",
      "0      ...                   True                               False   \n",
      "1      ...                  False                               False   \n",
      "2      ...                  False                               False   \n",
      "3      ...                   True                               False   \n",
      "4      ...                  False                               False   \n",
      "...    ...                    ...                                 ...   \n",
      "12467  ...                  False                               False   \n",
      "12468  ...                   True                               False   \n",
      "12469  ...                  False                               False   \n",
      "12470  ...                   True                               False   \n",
      "12471  ...                  False                               False   \n",
      "\n",
      "      has_relaxed_repo_valuable_reference  extrinsic_bug extrinsic_reference  \\\n",
      "0                                   False           True               False   \n",
      "1                                   False          False               False   \n",
      "2                                   False           True               False   \n",
      "3                                    True          False               False   \n",
      "4                                   False          False               False   \n",
      "...                                   ...            ...                 ...   \n",
      "12467                               False          False               False   \n",
      "12468                               False           True               False   \n",
      "12469                               False          False               False   \n",
      "12470                                True          False               False   \n",
      "12471                               False           True               False   \n",
      "\n",
      "       included_subset  same_set  reduced_noise  is_linkable  \\\n",
      "0                 True      True          False        False   \n",
      "1                False     False          False         True   \n",
      "2                False     False          False        False   \n",
      "3                 True      True          False         True   \n",
      "4                False     False          False         True   \n",
      "...                ...       ...            ...          ...   \n",
      "12467            False     False          False         True   \n",
      "12468             True      True          False        False   \n",
      "12469            False     False          False         True   \n",
      "12470             True      True          False         True   \n",
      "12471            False     False          False        False   \n",
      "\n",
      "       is_linkable_with_ref  \n",
      "0                     False  \n",
      "1                      True  \n",
      "2                     False  \n",
      "3                      True  \n",
      "4                      True  \n",
      "...                     ...  \n",
      "12467                  True  \n",
      "12468                 False  \n",
      "12469                  True  \n",
      "12470                  True  \n",
      "12471                 False  \n",
      "\n",
      "[12472 rows x 34 columns]\n"
     ]
    }
   ],
   "source": [
    "\n",
    "current_path = os.getcwd()\n",
    "\n",
    "file_to_explore = \"/full_data.csv\"\n",
    "file_path = current_path + file_to_explore\n",
    "\n",
    "full_data = pd.read_csv(file_path)\n",
    "print(full_data)"
   ]
  },
  {
   "cell_type": "markdown",
   "id": "bbdeaedd",
   "metadata": {},
   "source": [
    "# How many bugs in the dataset have either bug file or file reference empty?"
   ]
  },
  {
   "cell_type": "code",
   "execution_count": 7,
   "metadata": {},
   "outputs": [
    {
     "name": "stdout",
     "output_type": "stream",
     "text": [
      "reference files: 9281\n",
      "bug files: 11857\n",
      "bug and reference files: 8919 ,uncommon: 2938\n",
      "filtered dataset:  8299\n",
      "filtered dataset sample: 620\n",
      "common_non_empty_referenced_files_filtered: 0\n"
     ]
    }
   ],
   "source": [
    "import json\n",
    "# The requirement of NLP-szz is that there should be atlest one common file shared between bug intro and bug fix.\n",
    "non_empty_referenced_files = full_data.loc[full_data['referenced_files']!='[]', 'fix_id']\n",
    "non_empty_bug_files =  full_data.loc[full_data['bug_files']!='[]', 'fix_id']\n",
    "common_non_empty_referenced_files = set(non_empty_bug_files).intersection(set(non_empty_referenced_files))\n",
    "diff_non_empty_referenced_files = set(non_empty_bug_files).difference(set(non_empty_referenced_files))\n",
    "print(\"reference files:\",len(set(non_empty_referenced_files)))\n",
    "print(\"bug files:\",len(set(non_empty_bug_files)))\n",
    "print(\"bug and reference files:\",len(common_non_empty_referenced_files), \",uncommon:\",len(diff_non_empty_referenced_files))\n",
    "\n",
    "file_path_filtered_sample = \"./Datasets/Filtered/RelevantSample/sample_filtered_normal_dataset.json\"\n",
    "file_path_filtered = \"./Datasets/Filtered/filtered_normal_dataset.json\"\n",
    "\n",
    "with open(file_path_filtered, \"r\") as file:\n",
    "    data_filtered = json.load(file)\n",
    "\n",
    "fix_ids_filtered = [entry[\"id\"] for entry in data_filtered]\n",
    "print(\"filtered dataset: \",len(fix_ids_filtered))\n",
    "\n",
    "\n",
    "with open(file_path_filtered_sample, \"r\") as file:\n",
    "    data_filtered_sample = json.load(file)\n",
    "\n",
    "fix_ids_filtered_sample = [entry[\"id\"] for entry in data_filtered_sample]\n",
    "print(\"filtered dataset sample:\",len(fix_ids_filtered_sample))\n",
    "\n",
    "common_non_empty_referenced_files_filtered = set(fix_ids_filtered_sample).intersection(set(fix_ids_filtered))\n",
    "print(\"common_non_empty_referenced_files_filtered:\",len(common_non_empty_referenced_files_filtered))\n",
    "\n"
   ]
  },
  {
   "cell_type": "markdown",
   "id": "cdd5ce69",
   "metadata": {},
   "source": [
    "# How many Bugs (manual analyzed) share references with bug-fix commits (Tangled), bug-introducing commits (Extrinsic) or none (no reference)."
   ]
  },
  {
   "cell_type": "code",
   "execution_count": 38,
   "id": "3e12de1d",
   "metadata": {},
   "outputs": [
    {
     "name": "stdout",
     "output_type": "stream",
     "text": [
      "369\n",
      "Group: FBC (Extrinsic)\n",
      "Fix IDs: 106\n",
      "\n",
      "Group: FFC (Tangled)\n",
      "Fix IDs: 152\n",
      "\n",
      "Group: FNC (NoRef)\n",
      "Fix IDs: 111\n",
      "\n"
     ]
    }
   ],
   "source": [
    "# Load the data\n",
    "manual_analysis_path = \"/RQ1/Manual_Analysis.xlsx\"\n",
    "manual_analysis_data = pd.read_excel(manual_analysis_path)\n",
    "\n",
    "# Extract the 'fix_id' column\n",
    "manual_fix_ids = manual_analysis_data['fix_id']\n",
    "print(len(manual_fix_ids))\n",
    "\n",
    "grouped_manual_fix_ids = manual_fix_ids.groupby(manual_analysis_data['Sheet'])\n",
    "for group, fix_ids in grouped_manual_fix_ids:\n",
    "    print(\"Group:\", group)\n",
    "    print(\"Fix IDs:\", len(fix_ids.tolist()))\n",
    "    print()\n"
   ]
  },
  {
   "cell_type": "markdown",
   "id": "caf49c2d",
   "metadata": {},
   "source": [
    "# How many bugs in manual analysis have references that are not shared with any"
   ]
  },
  {
   "cell_type": "code",
   "execution_count": 39,
   "id": "1cb6f1ae",
   "metadata": {},
   "outputs": [
    {
     "name": "stdout",
     "output_type": "stream",
     "text": [
      "111\n",
      "152\n",
      "106\n"
     ]
    }
   ],
   "source": [
    "fnc_noref_fix_ids = manual_analysis_data.loc[manual_analysis_data['Sheet'] == 'FNC (NoRef)', 'fix_id'].tolist()\n",
    "print(len(fnc_noref_fix_ids))\n",
    "\n",
    "ffc_tangled_fix_ids = manual_analysis_data.loc[manual_analysis_data['Sheet'] == 'FFC (Tangled)', 'fix_id'].tolist()\n",
    "print(len(ffc_tangled_fix_ids))\n",
    "\n",
    "fbc_extrinsic_fix_ids = manual_analysis_data.loc[manual_analysis_data['Sheet'] == 'FBC (Extrinsic)', 'fix_id'].tolist()\n",
    "print(len(fbc_extrinsic_fix_ids))"
   ]
  },
  {
   "cell_type": "markdown",
   "id": "9a096125",
   "metadata": {},
   "source": [
    "# How many bugs have file references"
   ]
  },
  {
   "cell_type": "code",
   "execution_count": 13,
   "id": "38f0831a",
   "metadata": {},
   "outputs": [
    {
     "name": "stdout",
     "output_type": "stream",
     "text": [
      "                count      norm    cum_perc\n",
      "has_references                             \n",
      "True             9281  0.744147   74.414689\n",
      "False            3191  0.255853  100.000000\n"
     ]
    }
   ],
   "source": [
    "# bugs with file references in their discussions\n",
    "referenced = full_data['has_references'].value_counts()\n",
    "referenced_norm = full_data['has_references'].value_counts(normalize=True)\n",
    "referenced_df = pd.concat([referenced, referenced_norm], axis=1)\n",
    "referenced_df.columns = ['count', 'norm']\n",
    "referenced_df['cum_perc'] = referenced_df['norm'].cumsum()*100\n",
    "print(referenced_df)"
   ]
  },
  {
   "cell_type": "markdown",
   "id": "7ddf0aa1",
   "metadata": {},
   "source": [
    "# How many bugs have valuable references?"
   ]
  },
  {
   "cell_type": "code",
   "execution_count": 12,
   "id": "ea3fdf2c",
   "metadata": {},
   "outputs": [
    {
     "name": "stdout",
     "output_type": "stream",
     "text": [
      "                        count      norm   cum_perc\n",
      "has_valuable_reference                            \n",
      "True                     6550  0.525176   52.51764\n",
      "False                    5922  0.474824  100.00000\n"
     ]
    }
   ],
   "source": [
    " # A reference is valuable if it appears in either the bug or the fix commits\n",
    "valuable_referenced = full_data['has_valuable_reference'].value_counts()\n",
    "valuable_referenced_norm = full_data['has_valuable_reference'].value_counts(normalize=True)\n",
    "valuable_referenced_df = pd.concat([valuable_referenced, valuable_referenced_norm], axis=1)\n",
    "valuable_referenced_df.columns = ['count', 'norm']\n",
    "valuable_referenced_df['cum_perc'] = valuable_referenced_df['norm'].cumsum()*100\n",
    "print(valuable_referenced_df)"
   ]
  },
  {
   "cell_type": "markdown",
   "id": "ed1c14f9",
   "metadata": {},
   "source": [
    "# How many bugs in manual analysis sample are invaluable as the references in their bug discussion are not shared with bug introducting and bug fixing bugs."
   ]
  },
  {
   "cell_type": "code",
   "execution_count": 40,
   "id": "7860379c",
   "metadata": {},
   "outputs": [
    {
     "name": "stdout",
     "output_type": "stream",
     "text": [
      "bug has reference: 9281\n",
      "bug has valuable reference: 6550\n",
      "invaluable references: 2731\n",
      "tangled: 0\n",
      "extrinsic: 0\n",
      "fnc_noref_fix_ids: 111\n",
      "Count of sample already analyzed set()\n"
     ]
    }
   ],
   "source": [
    "fix_ids_with_references = full_data.loc[full_data['has_references'], 'fix_id']\n",
    "print(\"bug has reference:\",len(fix_ids_with_references))\n",
    "fix_ids_valuable_reference = full_data.loc[full_data['has_valuable_reference'] == True, 'fix_id']\n",
    "print(\"bug has valuable reference:\",len(fix_ids_valuable_reference))\n",
    "fix_ids_not_valuable_reference = full_data.loc[full_data['has_valuable_reference'] == False, 'fix_id']\n",
    "#print(\"bug has either not valuable reference or no reference:\",len(fix_ids_not_valuable_reference))\n",
    "\n",
    "count_fix_ids = (set(fix_ids_with_references).intersection(set(fix_ids_not_valuable_reference)))\n",
    "print(\"invaluable references:\",len(count_fix_ids))\n",
    "\n",
    "# find the tangled bugs that are common in fix_ids_with_references\n",
    "common_tangled_fix_ids = (set(ffc_tangled_fix_ids).intersection(set(count_fix_ids)))\n",
    "print(\"tangled:\",len(common_tangled_fix_ids))\n",
    "\n",
    "# find the extrinsic bugs that are common in fix_ids_with_references\n",
    "common_extrinsic_fix_ids = (set(fbc_extrinsic_fix_ids).intersection(set(count_fix_ids)))\n",
    "print(\"extrinsic:\",len(common_extrinsic_fix_ids))\n",
    "\n",
    "# find the no reference bugs that are common with invaluable references\n",
    "common_no_ref_fix_ids = (set(fnc_noref_fix_ids).intersection(set(count_fix_ids)))\n",
    "print(\"fnc_noref_fix_ids:\",len(fnc_noref_fix_ids))\n",
    "\n",
    "already_fix_analyzed = {1743807, 1728063, 1547237, 1793766, 1759631, 1647735, 1676417, 1755242, 1783959, 1686750, 1603512, 1772523, 1578951, 1719963, 1640051, 1777952, 1749013, 1673164, 1685773, 1764690, 1673341, 1717833, 1631276, 1707595, 1703625, 1635783, 1637973, 1673680, 1651928, 1570684, 1668265, 1733707, 1645377, 1772489, 1570816, 1578750, 1570786, 1605347, 1661454, 1560720, 1556360, 1691901, 1596761, 1669096, 1637837, 1708729, 1585158, 1723198, 1701785, 1674756, 1607895, 1685744, 1664065, 1635481, 1582963, 1587794, 1710598, 1800323, 1581934, 1637564, 1600445, 1541660, 1733957, 1564241, 1682919, 1668706, 1586603, 1601905, 1761691, 1755006, 1641510, 1640906, 1648577, 1652232, 1688999, 1565370, 1595284, 1655544, 1719391, 1749500, 1719189, 1658550, 1747941, 1660213, 1751564}\n",
    "print(\"Count of sample already analyzed\", (set(already_fix_analyzed).intersection(set(fnc_noref_fix_ids))))"
   ]
  },
  {
   "cell_type": "markdown",
   "id": "e196d494",
   "metadata": {},
   "source": [
    "# Bugs whose file references are shared with bug introducing, bug fixing, both."
   ]
  },
  {
   "cell_type": "code",
   "execution_count": 41,
   "id": "59bf3840",
   "metadata": {},
   "outputs": [
    {
     "name": "stdout",
     "output_type": "stream",
     "text": [
      "Bugs with file references shared with bug intro: 5555\n",
      "Bugs with file references shared with only bug intro: 1179\n",
      "Bugs with file references shared with bug fix: 5371\n",
      "Bugs with file references shared with only bug fix: 995\n",
      "Bugs with file references shared with both bug fix and bug intro: 4376\n",
      "tangled bugs sharing with bug intro as well: 115\n",
      "extrinsic bugs sharing with bug fix as well: 57\n",
      "already_fix_analyzed shared with files_bug_intro: 0\n",
      "already_fix_analyzed shared with files_bug_fix: 13\n",
      "already_fix_analyzed shared with files_both_bug_fix: 72\n"
     ]
    }
   ],
   "source": [
    " # parsed_bug_counter: counter of files referenced in the issue parsed into buggy files\n",
    "files_bug_intro =  full_data.loc[(full_data['parsed_bug_counter'] > 0), 'fix_id']\n",
    "print(\"Bugs with file references shared with bug intro:\",len(files_bug_intro))\n",
    "files_only_bug_intro = full_data.loc[(full_data['parsed_counter'] == 0) & (full_data['parsed_bug_counter'] > 0), 'fix_id']\n",
    "print(\"Bugs with file references shared with only bug intro:\",len(files_only_bug_intro))\n",
    "\n",
    " # parsed_counter: counter of files referenced in the issue parsed in modified files\n",
    "files_bug_fix =  full_data.loc[(full_data['parsed_counter'] > 0), 'fix_id']\n",
    "print(\"Bugs with file references shared with bug fix:\",len(files_bug_fix))\n",
    "files_only_bug_fix = full_data.loc[(full_data['parsed_counter'] > 0) & (full_data['parsed_bug_counter'] == 0), 'fix_id']\n",
    "print(\"Bugs with file references shared with only bug fix:\",len(files_only_bug_fix))\n",
    "\n",
    " # both: counter of files referenced in the issue parsed in modified files\n",
    "files_both_bug_fix = full_data.loc[(full_data['parsed_counter'] > 0) & (full_data['parsed_bug_counter'] > 0), 'fix_id']\n",
    "print(\"Bugs with file references shared with both bug fix and bug intro:\",len(files_both_bug_fix))\n",
    "\n",
    "# see if ffc_tangled_fix_ids are also in files_bug_intro\n",
    "common_tangled_files_bug_intro = (set(ffc_tangled_fix_ids).intersection(set(files_both_bug_fix)))\n",
    "print(\"tangled bugs sharing with bug intro as well:\",len(common_tangled_files_bug_intro))\n",
    "\n",
    "# see if fbc_extrinsic_fix_ids are also in files_bug_intro\n",
    "common_extrnisic_files_bug_intro = (set(fbc_extrinsic_fix_ids).intersection(set(files_both_bug_fix)))\n",
    "print(\"extrinsic bugs sharing with bug fix as well:\",len(common_extrnisic_files_bug_intro))\n",
    "\n",
    "# check if already_fix_analyzed shared with files_bug_intro, files_bug_fix, files_both_bug_fix\n",
    "already_fix_analyzed_shared_with_files_bug_intro = already_fix_analyzed.intersection(set(files_only_bug_intro))\n",
    "already_fix_analyzed_shared_with_files_bug_fix = already_fix_analyzed.intersection(set(files_only_bug_fix))\n",
    "already_fix_analyzed_shared_with_files_both_bug_fix = already_fix_analyzed.intersection(set(files_both_bug_fix))\n",
    "\n",
    "print(\"already_fix_analyzed shared with files_bug_intro:\", len(already_fix_analyzed_shared_with_files_bug_intro))\n",
    "print(\"already_fix_analyzed shared with files_bug_fix:\", len(already_fix_analyzed_shared_with_files_bug_fix))\n",
    "print(\"already_fix_analyzed shared with files_both_bug_fix:\", len(already_fix_analyzed_shared_with_files_both_bug_fix))\n"
   ]
  },
  {
   "cell_type": "markdown",
   "id": "69f1686f",
   "metadata": {},
   "source": [
    "# How many references are there in the manual analysis and how many of them are parsed and shared with commits?"
   ]
  },
  {
   "cell_type": "code",
   "execution_count": 51,
   "id": "a5e39679",
   "metadata": {},
   "outputs": [
    {
     "name": "stdout",
     "output_type": "stream",
     "text": [
      "filtered sample data from full dataset:  369\n",
      "non empty references: 209\n",
      "referenced files in manual analysis sample: 2482\n",
      "parsed referenced files in manual analysis sample:: 304\n"
     ]
    }
   ],
   "source": [
    "# BEGIN: filter_rows\n",
    "filtered_manual_analysis_sample_full = full_data[full_data['fix_id'].isin(manual_fix_ids)]\n",
    "# END: filter_rows\n",
    "print(\"filtered sample data from full dataset: \",len(manual_fix_ids))\n",
    "\n",
    "filtered_reference_counter = filtered_manual_analysis_sample_full[filtered_manual_analysis_sample_full['parsed_counter'] != 0]['fix_id']\n",
    "print(\"non empty references:\",len(filtered_reference_counter))\n",
    "\n",
    "reference_counter_sum = filtered_manual_analysis_sample_full['reference_counter'].sum()\n",
    "print(\"referenced files in manual analysis sample:\",reference_counter_sum)\n",
    "\n",
    "parsed_references_counter_sum = filtered_manual_analysis_sample_full['parsed_counter'].sum()\n",
    "print(\"parsed referenced files in manual analysis sample::\",parsed_references_counter_sum)"
   ]
  },
  {
   "cell_type": "code",
   "execution_count": null,
   "id": "0bb9911f",
   "metadata": {},
   "outputs": [],
   "source": []
  },
  {
   "cell_type": "markdown",
   "id": "7103303d",
   "metadata": {},
   "source": [
    "# How many extrinsic_bug in dataset and manual analysis set"
   ]
  },
  {
   "cell_type": "code",
   "execution_count": 133,
   "id": "be1cf28e",
   "metadata": {},
   "outputs": [
    {
     "name": "stdout",
     "output_type": "stream",
     "text": [
      "No of extrinsic_bug:  4918\n",
      "The bugs can be targeted by references: 1436\n",
      "Manually analyzed extrinsic bugs: 15\n"
     ]
    }
   ],
   "source": [
    "# when there are no common files shared between the files modified in bug fix and in the bug intro\n",
    "extrinsic_bug = full_data.loc[full_data['extrinsic_bug'] == True, 'fix_id']\n",
    "print(\"No of extrinsic_bug in dataset: \",len(extrinsic_bug))\n",
    "\n",
    "extrinsic_reference = full_data.loc[full_data['extrinsic_reference'] == True, 'fix_id']\n",
    "print(\"The bugs can be targeted by references:\",len(extrinsic_reference))\n",
    "\n",
    "manual_analyzed_extrinsic_ids = set(fbc_extrinsic_fix_ids).intersection(set(extrinsic_bug))\n",
    "print(\"Manually analyzed extrinsic bugs:\",len(manual_analyzed_extrinsic_ids))"
   ]
  },
  {
   "cell_type": "markdown",
   "id": "cb5c6b56",
   "metadata": {},
   "source": [
    "# How many detangled bugs in overall dataset and manual analysis dataset?"
   ]
  },
  {
   "cell_type": "code",
   "execution_count": 135,
   "id": "8d503225",
   "metadata": {},
   "outputs": [
    {
     "name": "stdout",
     "output_type": "stream",
     "text": [
      "No of detangled_bugs:  2164\n",
      "Manually analyzed extrinsic bugs: 34\n"
     ]
    }
   ],
   "source": [
    "# the fix has some files discussed in the bug ticket AND NOT(the fix has the same file discussed in the bug ticket)\n",
    "detangled_bugs = full_data.loc[full_data['reduced_noise'] == True, 'fix_id']\n",
    "print(\"No of detangled_bugs: \",len(detangled_bugs))\n",
    "\n",
    "manual_analyzed_detangled_ids = set(ffc_tangled_fix_ids).intersection(set(detangled_bugs))\n",
    "print(\"Manually analyzed extrinsic bugs:\",len(manual_analyzed_detangled_ids))\n"
   ]
  },
  {
   "cell_type": "markdown",
   "id": "3ec72a95",
   "metadata": {},
   "source": [
    "# How many manual analysis bugs that do not have valuable references?"
   ]
  },
  {
   "cell_type": "code",
   "execution_count": 137,
   "id": "7e0a70f3",
   "metadata": {},
   "outputs": [
    {
     "name": "stdout",
     "output_type": "stream",
     "text": [
      "6550\n",
      "5922\n",
      "66\n",
      "43\n",
      "not valuablae referece: 266\n"
     ]
    }
   ],
   "source": [
    "fix_ids_with_valuable_reference = full_data.loc[full_data['has_valuable_reference'], 'fix_id']\n",
    "print(len(fix_ids_with_valuable_reference))\n",
    "\n",
    "fix_ids_false_valuable_reference = full_data.loc[full_data['has_valuable_reference'] == False, 'fix_id']\n",
    "print(len(fix_ids_false_valuable_reference))\n",
    "\n",
    "#Verify if the FFC (Tangled) are in the list of false valuable references\n",
    "common_tangled_fix_ids = pd.Series(list(set(ffc_tangled_fix_ids).intersection(set(fix_ids_with_valuable_reference))))\n",
    "print(len(common_tangled_fix_ids))\n",
    "\n",
    "#Verify if the FBC (Extrinsic) are in the list of false valuable references\n",
    "common_extrinsic_fix_ids = pd.Series(list(set(fbc_extrinsic_fix_ids).intersection(set(fix_ids_with_valuable_reference))))\n",
    "print(len(common_extrinsic_fix_ids))\n",
    "\n",
    "#Verify if the FNC (NoRef) are in the list of false valuable references\n",
    "common_no_ref_fix_ids = pd.Series(list(set(fnc_noref_fix_ids).intersection(set(fix_ids_false_valuable_reference))))\n",
    "print(\"not valuablae referece:\",len(common_no_ref_fix_ids))\n",
    "\n",
    "\n"
   ]
  },
  {
   "cell_type": "markdown",
   "id": "97bcef29",
   "metadata": {},
   "source": [
    "# How many bug tickets contains a valuable reference that can be parsed to Mozilla's file and used to refine SZZ?"
   ]
  },
  {
   "cell_type": "code",
   "execution_count": 222,
   "id": "ce4da220",
   "metadata": {},
   "outputs": [
    {
     "name": "stdout",
     "output_type": "stream",
     "text": [
      "       count      norm   cum_perc\n",
      "False  11011  0.882858  100.00000\n",
      "True    1461  0.117142   52.51764\n"
     ]
    }
   ],
   "source": [
    "valuable_repo_referenced = full_data['has_relaxed_repo_valuable_reference'].value_counts()\n",
    "valuable_repo_referenced_norm = full_data['has_relaxed_repo_valuable_reference'].value_counts(normalize=True)\n",
    "valuable_repo_referenced_df = pd.concat([valuable_repo_referenced, valuable_repo_referenced_norm], axis=1)\n",
    "valuable_repo_referenced_df.columns = ['count', 'norm']\n",
    "valuable_repo_referenced_df['cum_perc'] = valuable_referenced_df['norm'].cumsum()*100\n",
    "print(valuable_repo_referenced_df)"
   ]
  },
  {
   "cell_type": "markdown",
   "id": "3ed1e968",
   "metadata": {},
   "source": [
    "# How many bugs can be linked by SZZ?"
   ]
  },
  {
   "cell_type": "code",
   "execution_count": 225,
   "id": "2554dfc2",
   "metadata": {},
   "outputs": [
    {
     "name": "stdout",
     "output_type": "stream",
     "text": [
      "       count      norm    cum_perc\n",
      "True    7554  0.605677   60.567672\n",
      "False   4918  0.394323  100.000000\n"
     ]
    }
   ],
   "source": [
    "# the fix and the bug shares at least one file\n",
    "linkable = full_data['is_linkable'].value_counts()\n",
    "linkable_norm = full_data['is_linkable'].value_counts(normalize=True)\n",
    "linkable_df = pd.concat([linkable, linkable_norm], axis=1)\n",
    "linkable_df.columns = ['count', 'norm']\n",
    "linkable_df['cum_perc'] = linkable_df['norm'].cumsum()*100\n",
    "print(linkable_df)"
   ]
  },
  {
   "cell_type": "markdown",
   "id": "328aa766",
   "metadata": {},
   "source": [
    "# How many bugs can be linked by SZZ adding file references?"
   ]
  },
  {
   "cell_type": "code",
   "execution_count": 226,
   "id": "7fedc8da",
   "metadata": {},
   "outputs": [
    {
     "name": "stdout",
     "output_type": "stream",
     "text": [
      "       count      norm    cum_perc\n",
      "True    8990  0.720815   72.081462\n",
      "False   3482  0.279185  100.000000\n"
     ]
    }
   ],
   "source": [
    "linkable_ref = full_data['is_linkable_with_ref'].value_counts()\n",
    "linkable_ref_norm = full_data['is_linkable_with_ref'].value_counts(normalize=True)\n",
    "linkable_ref_df = pd.concat([linkable_ref, linkable_ref_norm], axis=1)\n",
    "linkable_ref_df.columns = ['count', 'norm']\n",
    "linkable_ref_df['cum_perc'] = linkable_ref_df['norm'].cumsum()*100\n",
    "print(linkable_ref_df)"
   ]
  },
  {
   "cell_type": "markdown",
   "id": "a5a008c8",
   "metadata": {},
   "source": [
    "# How many bugs can be detangled?"
   ]
  },
  {
   "cell_type": "code",
   "execution_count": 228,
   "id": "ec6a466e",
   "metadata": {},
   "outputs": [
    {
     "name": "stdout",
     "output_type": "stream",
     "text": [
      "       count      norm    cum_perc\n",
      "False  10308  0.826491   82.649134\n",
      "True    2164  0.173509  100.000000\n"
     ]
    }
   ],
   "source": [
    "# the fix has some files discussed in the bug ticket AND NOT(the fix has the same file discussed in the bug ticket)\n",
    "noise_ref = full_data['reduced_noise'].value_counts()\n",
    "noise_ref_norm = full_data['reduced_noise'].value_counts(normalize=True)\n",
    "noise_ref_df = pd.concat([noise_ref, noise_ref_norm], axis=1)\n",
    "noise_ref_df.columns = ['count', 'norm']\n",
    "noise_ref_df['cum_perc'] = noise_ref_df['norm'].cumsum()*100\n",
    "print(noise_ref_df)"
   ]
  },
  {
   "cell_type": "markdown",
   "id": "c3901e51",
   "metadata": {},
   "source": [
    "# How many extrinsic bug can be detected by discussion files?"
   ]
  },
  {
   "cell_type": "code",
   "execution_count": 229,
   "id": "59ce389d",
   "metadata": {},
   "outputs": [
    {
     "name": "stdout",
     "output_type": "stream",
     "text": [
      "       count      norm    cum_perc\n",
      "False  11036  0.884862   88.486209\n",
      "True    1436  0.115138  100.000000\n"
     ]
    }
   ],
   "source": [
    "# the extrinsic bug is when the no file is shared between bug and fix commit\n",
    "# the bug is extrinsic but there is a reference usable to link it as the file reference from bug discussion is shared with bugin using bug parsing or fix parsing strategy\n",
    "bug_references = full_data['extrinsic_reference'].value_counts()\n",
    "bug_references_norm = full_data['extrinsic_reference'].value_counts(normalize=True)\n",
    "bug_references_df = pd.concat([bug_references, bug_references_norm], axis=1)\n",
    "bug_references_df.columns = ['count', 'norm']\n",
    "bug_references_df['cum_perc'] = bug_references_df['norm'].cumsum()*100\n",
    "print(bug_references_df)"
   ]
  },
  {
   "cell_type": "code",
   "execution_count": 234,
   "id": "de8b2608",
   "metadata": {},
   "outputs": [
    {
     "name": "stdout",
     "output_type": "stream",
     "text": [
      "5555\n"
     ]
    }
   ],
   "source": [
    "# How many references to fix files are in tickets?\n",
    "ref_pd = full_data.loc[full_data['parsed_counter'] > 0]\n",
    "print(len(ref_pd))\n",
    "# How many references to bug files are in tickes?\n",
    "bug_ref_pd = full_data.loc[full_data['parsed_bug_counter'] > 0]\n",
    "print(len(bug_ref_pd))"
   ]
  },
  {
   "cell_type": "code",
   "execution_count": 215,
   "id": "b57e8da1",
   "metadata": {},
   "outputs": [
    {
     "name": "stdout",
     "output_type": "stream",
     "text": [
      "12472\n",
      "empty_modified_files: 2383\n",
      "empty_referenced_files: 3191\n",
      "empty_bug_files: 615\n",
      "empty_bugs: 615\n"
     ]
    }
   ],
   "source": [
    "total_records = len(full_data['fix_id'])\n",
    "print(total_records)\n",
    "\n",
    "# Count the records where the modified files are empty\n",
    "empty_modified_files = full_data[(full_data['modified_files'].isnull() | (full_data['modified_files'] == '[]'))]\n",
    "print(\"empty_modified_files:\",len(empty_modified_files))\n",
    "\n",
    " # referenced_files: file referenced in the bug discussion\n",
    "empty_referenced_files = full_data[(full_data['referenced_files'].isnull() | (full_data['referenced_files'] == '[]'))]\n",
    "print(\"empty_referenced_files:\",len(empty_referenced_files))\n",
    "\n",
    "# files associated to the bug\n",
    "empty_bug_files = full_data[(full_data['bug_files'].isnull() | (full_data['bug_files'] == '[]'))]\n",
    "print(\"empty_bug_files:\",len(empty_bug_files))\n",
    "\n",
    " # bug_ids: ids of the bugs associated to the fix\n",
    "empty_bugs = full_data[(full_data['bug_ids'].isnull() | (full_data['bug_files'] == '[]'))]\n",
    "print(\"empty_bugs:\",len(empty_bugs))\n"
   ]
  },
  {
   "cell_type": "code",
   "execution_count": 244,
   "id": "c26d60af",
   "metadata": {},
   "outputs": [
    {
     "name": "stdout",
     "output_type": "stream",
     "text": [
      "nonem_relaxed_repo_references: 5687\n",
      "ne_fix_reference_shared: 1732\n",
      "ne_bug_reference_shared: 1874\n",
      "ne_fix_reference_shared_after: 5371\n",
      "ne_bug_fixsim_reference_shared: 3782\n"
     ]
    }
   ],
   "source": [
    "# relaxed_repo_references: file referenced in the issue converted in a file of the repository based on path similarity with modified files\n",
    "nonem_relaxed_repo_references = full_data[((full_data['relaxed_repo_references'] != '[]'))]\n",
    "print(\"nonem_relaxed_repo_references:\",len(nonem_relaxed_repo_references))\n",
    "\n",
    "#fix_reference_shared: files shared between fix and discussion\n",
    "ne_fix_reference_shared = full_data[(full_data['fix_reference_shared']> 0)]\n",
    "print(\"ne_fix_reference_shared:\",len(ne_fix_reference_shared))\n",
    "\n",
    "#bug_reference_shared: # files shared between bug and discussion\n",
    "ne_bug_reference_shared = full_data[(full_data['bug_reference_shared']> 0)]\n",
    "print(\"ne_bug_reference_shared:\",len(ne_bug_reference_shared))\n",
    "\n",
    "# files shared between fix and discussion after fix parsing\n",
    "ne_fix_reference_shared_after = full_data[(full_data['fix_fixsim_reference_shared']>0)]\n",
    "print(\"ne_fix_reference_shared_after:\",len(ne_fix_reference_shared_after))\n",
    "\n",
    "# files shared between bug and discussion after fix parsing\n",
    "ne_bug_fixsim_reference_shared = full_data[(full_data['bug_fixsim_reference_shared']>0)]\n",
    "print(\"ne_bug_fixsim_reference_shared:\",len(ne_bug_fixsim_reference_shared))"
   ]
  },
  {
   "cell_type": "markdown",
   "id": "06586e56",
   "metadata": {},
   "source": [
    "# How many Sample bugs (used to run SZZ) have referenced files?"
   ]
  },
  {
   "cell_type": "code",
   "execution_count": 279,
   "id": "3843e34b",
   "metadata": {},
   "outputs": [
    {
     "name": "stdout",
     "output_type": "stream",
     "text": [
      "filtered dataset:  620\n",
      "bugs with empty fix commits: 93\n",
      "bugs with empty files: 93\n",
      "bugs with non empty files: 527\n",
      "files and fix commit empty 0\n",
      "Total number of files in fix_ids_dfp: 1725\n",
      "filtered sample data from full:  527\n",
      "referenced files: 4175\n",
      "parsed referenced files: 634\n"
     ]
    }
   ],
   "source": [
    "sample_dfp = \"./Datasets/Filtered/RelevantSample/sample_filtered_normal_dataset.json\"\n",
    "\n",
    "with open(sample_dfp, \"r\") as file:\n",
    "    sample_dfp_data = json.load(file)\n",
    "\n",
    "fix_ids_dfp = [entry[\"id\"] for entry in sample_dfp_data]\n",
    "print(\"filtered dataset: \",len(fix_ids_dfp))\n",
    "\n",
    "empty_fix_commits_ids = [entry['id'] for entry in sample_dfp_data if not entry['fix_commit_hash']]\n",
    "print(\"bugs with empty fix commits:\",len(empty_fix_commits_ids))\n",
    "\n",
    "empty_files_ids = [entry['id'] for entry in sample_dfp_data if not entry['files']]\n",
    "non_empty_files_ids = [entry['id'] for entry in sample_dfp_data if entry['files']]\n",
    "print(\"bugs with empty files:\",len(empty_files_ids))\n",
    "print(\"bugs with non empty files:\",len(non_empty_files_ids))\n",
    "\n",
    "print(\"files and fix commit empty\",len(set(empty_files_ids).intersection(set(empty_fix_commits_ids))))\n",
    " \n",
    "parsed_files = sum(len(entry['files']) for entry in sample_dfp_data if entry['id'] in fix_ids_dfp)\n",
    "print(\"Total number of files in fix_ids_dfp:\", parsed_files)\n",
    "\n",
    "# BEGIN: filter_rows\n",
    "filtered_data_sampe_full = full_data[full_data['fix_id'].isin(non_empty_files_ids)]\n",
    "# END: filter_rows\n",
    "print(\"filtered sample data from full: \",len(filtered_data_sampe_full))\n",
    "\n",
    "reference_counter_sum = filtered_data_sampe_full['reference_counter'].sum()\n",
    "print(\"referenced files:\",reference_counter_sum)\n",
    "\n",
    "parsed_references_counter_sum = filtered_data_sampe_full['parsed_counter'].sum()\n",
    "print(\"parsed referenced files:\",parsed_references_counter_sum)\n",
    "\n"
   ]
  },
  {
   "cell_type": "markdown",
   "id": "c2e75297",
   "metadata": {},
   "source": [
    "# How many tangled commits in sample szz data of 620 bugs"
   ]
  },
  {
   "cell_type": "code",
   "execution_count": 280,
   "id": "21118b2a",
   "metadata": {},
   "outputs": [
    {
     "name": "stdout",
     "output_type": "stream",
     "text": [
      "               count      norm    cum_perc\n",
      "reduced_noise                             \n",
      "False            378  0.717268   71.726755\n",
      "True             149  0.282732  100.000000\n"
     ]
    }
   ],
   "source": [
    "# the fix has some files discussed in the bug ticket AND NOT(the fix has the same file discussed in the bug ticket)\n",
    "noise_ref_szz = filtered_data_sampe_full['reduced_noise'].value_counts()\n",
    "noise_ref_szz_norm = filtered_data_sampe_full['reduced_noise'].value_counts(normalize=True)\n",
    "noise_ref_df_szz = pd.concat([noise_ref_szz, noise_ref_szz_norm], axis=1)\n",
    "noise_ref_df_szz.columns = ['count', 'norm']\n",
    "noise_ref_df_szz['cum_perc'] = noise_ref_df_szz['norm'].cumsum()*100\n",
    "print(noise_ref_df_szz)"
   ]
  },
  {
   "cell_type": "markdown",
   "id": "f749db88",
   "metadata": {},
   "source": [
    "# How many extrinsic bug can be detected by discussion files in Sample szz data?"
   ]
  },
  {
   "cell_type": "code",
   "execution_count": 282,
   "id": "3f07db5a",
   "metadata": {},
   "outputs": [
    {
     "name": "stdout",
     "output_type": "stream",
     "text": [
      "                     count      norm    cum_perc\n",
      "extrinsic_reference                             \n",
      "False                  461  0.874763   87.476281\n",
      "True                    66  0.125237  100.000000\n"
     ]
    }
   ],
   "source": [
    "# the extrinsic bug is when the no file is shared between bug and fix commit\n",
    "# the bug is extrinsic but there is a reference usable to link it as the file reference from bug discussion is shared with bugin using bug parsing or fix parsing strategy\n",
    "bug_references_szz = filtered_data_sampe_full['extrinsic_reference'].value_counts()\n",
    "bug_references_norm_szz = filtered_data_sampe_full['extrinsic_reference'].value_counts(normalize=True)\n",
    "bug_references_df_szz = pd.concat([bug_references_szz, bug_references_norm_szz], axis=1)\n",
    "bug_references_df_szz.columns = ['count', 'norm']\n",
    "bug_references_df_szz['cum_perc'] = bug_references_df_szz['norm'].cumsum()*100\n",
    "print(bug_references_df_szz)"
   ]
  }
 ],
 "metadata": {
  "kernelspec": {
   "display_name": "Python 3",
   "language": "python",
   "name": "python3"
  },
  "language_info": {
   "codemirror_mode": {
    "name": "ipython",
    "version": 3
   },
   "file_extension": ".py",
   "mimetype": "text/x-python",
   "name": "python",
   "nbconvert_exporter": "python",
   "pygments_lexer": "ipython3",
   "version": "3.9.16"
  }
 },
 "nbformat": 4,
 "nbformat_minor": 5
}
