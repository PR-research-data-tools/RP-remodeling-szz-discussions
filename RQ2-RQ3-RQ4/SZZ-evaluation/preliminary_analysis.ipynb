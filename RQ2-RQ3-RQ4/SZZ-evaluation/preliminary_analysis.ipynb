{
 "cells": [
  {
   "cell_type": "markdown",
   "metadata": {
    "collapsed": false,
    "jupyter": {
     "outputs_hidden": false
    }
   },
   "source": [
    "# Analys of Referenced Files in Bug Tickets\n",
    "In this study we want to analyze the file referenced by developers while discussing about bugs to improve SZZ performances. By their discussion we could address two different problems:\n",
    "1. Extrinsic Bugs: the fix and the bug does not share any file, but the developer might have talked about the fix-inducing files in the ticket. In this case, SZZ can take the latest modification of such files before the ticket submission.\n",
    "2. Noise Reduction: not all the files in the bug-fixing commits are responsible of the fix. Moreover, not necessarily all the modified files are responsible for the bug. SZZ has big issues in terms of precision, since it produces too many results compared to the bug scope. Reducing the set of input files for SZZ, we could increase the precision of the algorithm. To this extent, we want to limit SZZ execution to modified files that appear in the bug discussion."
   ]
  },
  {
   "cell_type": "code",
   "execution_count": 1,
   "metadata": {
    "collapsed": false,
    "jupyter": {
     "outputs_hidden": false
    }
   },
   "outputs": [
    {
     "name": "stderr",
     "output_type": "stream",
     "text": [
      "2023-10-13 18:29:29,780:INFO:bugbug.db:Downloading https://community-tc.services.mozilla.com/api/index/v1/task/project.bugbug.data_bugs.latest/artifacts/public/bugs.json.zst to data/bugs.json.zst\n",
      "data/bugs.json.zst  : 2300142052 bytes \n",
      "2023-10-13 18:30:16,511:INFO:bugbug.db:Downloading https://community-tc.services.mozilla.com/api/index/v1/task/project.bugbug.data_commits.latest/artifacts/public/commits.json.zst to data/commits.json.zst\n",
      "data/commits.json.zst: 9732903724 bytes \n",
      "[nltk_data] Downloading package brown to /Users/poojarani/nltk_data...\n",
      "[nltk_data]   Unzipping corpora/brown.zip.\n",
      "[nltk_data] Downloading package stopwords to\n",
      "[nltk_data]     /Users/poojarani/nltk_data...\n",
      "[nltk_data]   Unzipping corpora/stopwords.zip.\n"
     ]
    }
   ],
   "source": [
    "from bugbug import db, bugzilla, repository\n",
    "\n",
    "from os import path\n",
    "import re\n",
    "import similarity_checker\n",
    "import filepath_miner\n",
    "import json\n",
    "import pandas as pd\n",
    "import matplotlib.pyplot as plt\n",
    "\n",
    "import logging\n",
    "from tqdm import tqdm\n",
    "\n",
    "import nltk\n",
    "from nltk.corpus import brown\n",
    "from nltk.corpus import stopwords\n",
    "\n",
    "LOGGER = logging.getLogger(__name__)\n",
    "logging.basicConfig(level=logging.INFO)\n",
    "\n",
    "assert db.download(bugzilla.BUGS_DB)\n",
    "assert db.download(repository.COMMITS_DB)\n",
    "assert nltk.download('brown')\n",
    "assert nltk.download('stopwords')\n",
    "bot_filenames = ['uplift_beta.py',\n",
    "                 'needinfo_regression_author.py',\n",
    "                 'firefox-source-docs.mozilla.org/bug-mgmt/guides/bug-types.html',\n",
    "                 'fuzzing_bisection_without_regressed_by.py',\n",
    "                 'close_intermittents.py',\n",
    "                 'workflow.2Fno_severity.py']"
   ]
  },
  {
   "cell_type": "code",
   "execution_count": 2,
   "metadata": {
    "collapsed": false,
    "jupyter": {
     "outputs_hidden": false
    }
   },
   "outputs": [
    {
     "name": "stderr",
     "output_type": "stream",
     "text": [
      "0it [00:00, ?it/s]\n"
     ]
    }
   ],
   "source": [
    "fixes = set()\n",
    "reference_dict = dict()\n",
    "code_reference_dict = dict()\n",
    "fix_bug_id_map = dict()\n",
    "valid = re.compile(r\".*[A-Za-z0-9]+[.][A-Za-z]+$\")\n",
    "fix_counter = 0\n",
    "referred_counter = 0\n",
    "bug_map = dict()\n",
    "buggy_ids = set()\n",
    "pr_map = dict()\n",
    "full_data = list()\n",
    "set_words = set(brown.words())\n",
    "set_stopwords = set(stopwords.words('english'))\n",
    "curr_moz_filepaths = filepath_miner.file_dict('mozilla-unified')\n",
    "with open('filenames_history.json', 'r+') as json_file:\n",
    "    moz_filepaths = json.load(json_file)\n",
    "\n",
    "for key, value in curr_moz_filepaths.items():\n",
    "    if key not in moz_filepaths:\n",
    "        moz_filepaths.setdefault(key, list()).extend(value)\n",
    "    else:\n",
    "        for el in value:\n",
    "            if el not in moz_filepaths[key]:\n",
    "                moz_filepaths[key].append(el)\n",
    "\n",
    "json_file.close()"
   ]
  },
  {
   "cell_type": "code",
   "execution_count": 3,
   "metadata": {
    "collapsed": false,
    "jupyter": {
     "outputs_hidden": false
    }
   },
   "outputs": [
    {
     "name": "stderr",
     "output_type": "stream",
     "text": [
      "197339it [00:38, 5077.95it/s] \n"
     ]
    }
   ],
   "source": [
    "for bug in tqdm(bugzilla.get_bugs()):\n",
    "    if bug['regressed_by'] and not bug['is_open'] and bug['resolution'] == \"FIXED\" :\n",
    "        fix_counter += 1\n",
    "        referenced_files = set()\n",
    "        code_references = set()\n",
    "        all_words = set()\n",
    "        for comment in bug['comments']:\n",
    "            content = comment['text']\n",
    "            all_words = all_words.union(set(content.replace('\\n', ' ').replace('\\t', ' ').replace('\\'', ' ').replace('\"', ' ').replace('(', ' ').replace(')', ' ').replace('[', ' ').replace(']', ' ').replace('{', ' ').replace('}', ' ').replace(':', ' ').replace(',', ' ').replace(';', ' ').replace('|', ' ').replace('!', ' ').replace('?', ' ').replace('\\t', ' ').replace('//', ' ').replace(' /', ' ').replace('#', ' ').replace('. ', ' ').split(' ')))\n",
    "\n",
    "        clean_words = set()\n",
    "        words = [token for token in all_words if token not in set_stopwords]\n",
    "\n",
    "        for word in words:\n",
    "            new_word = word\n",
    "            if new_word.startswith('--'):\n",
    "                continue\n",
    "\n",
    "            if new_word:\n",
    "                if new_word[-1] in ('.', ';', ',','[', ']', '(', ')', '{', '}'):\n",
    "                    new_word = new_word[:-1]\n",
    "\n",
    "            if new_word and len(new_word) > 1:\n",
    "                clean_words.add(new_word)\n",
    "\n",
    "        reference_words = [el for el in clean_words if el not in set_words and el not in set_stopwords]\n",
    "\n",
    "        for el in reference_words:\n",
    "            if valid.match(el) and el not in bot_filenames:\n",
    "                extension = el.split('.')[-1]\n",
    "                root = el.split('.')[0]\n",
    "                if extension in ['cpp', 'h', 'js', 'ini', 'cc', 'rs', 'html', 'build',\n",
    "                                 'py', 'jsm', 'txt', 'java', 'css', 'c', 'json', 'yml',\n",
    "                                 'gn', 'toml', 'md', 'list', 'yaml', 'idl', 'mm', 'xhtml',\n",
    "                                 'xml', 'sh', 'rst', 'in', 'webidl']:\n",
    "                    if ':' not in el and root != 'wiki':\n",
    "                        referenced_files.add(el)\n",
    "\n",
    "            else:\n",
    "                if ':' not in el:\n",
    "                    if any([char in ['-', '_'] for char in el]) or (any([str(char).isupper() for char in el[1:-1]]) and el[0].islower()) or el.isupper():\n",
    "                        code_references.add(el)\n",
    "\n",
    "        if referenced_files:\n",
    "            referred_counter += 1\n",
    "\n",
    "        reference_dict.setdefault(bug['id'], list()).extend(referenced_files)\n",
    "        code_reference_dict.setdefault(bug['id'], list()).extend(code_references)\n",
    "        fixes.add(bug['id'])\n",
    "\n",
    "        for bug_id in bug['regressed_by']:\n",
    "            fix_bug_id_map.setdefault(bug['id'], set()).add(bug_id)\n",
    "\n",
    "\n",
    "    if bug['regressions']:\n",
    "        buggy_ids.add(bug['id'])"
   ]
  },
  {
   "cell_type": "code",
   "execution_count": 4,
   "metadata": {
    "collapsed": false,
    "jupyter": {
     "outputs_hidden": false
    }
   },
   "outputs": [
    {
     "name": "stderr",
     "output_type": "stream",
     "text": [
      "577255it [00:43, 13393.97it/s]\n"
     ]
    }
   ],
   "source": [
    "extensions = list()\n",
    "for commit in tqdm(repository.get_commits()):\n",
    "    if commit['bug_id'] and commit['bug_id'] in fixes or commit['bug_id'] in buggy_ids:\n",
    "        for filename in commit['files']:\n",
    "            pr_map.setdefault(commit['bug_id'], set()).add(filename)\n",
    "            extensions.append(filename.split('.')[-1])\n"
   ]
  },
  {
   "cell_type": "code",
   "execution_count": 5,
   "metadata": {
    "collapsed": false,
    "jupyter": {
     "outputs_hidden": false
    }
   },
   "outputs": [
    {
     "name": "stderr",
     "output_type": "stream",
     "text": [
      "100%|████████████████████████████████████████████████████████████████████████████████████████████████████████████████████████████████████████████████████████████████████████████████████████| 13921/13921 [03:08<00:00, 73.88it/s]\n"
     ]
    }
   ],
   "source": [
    "for key, values in tqdm(reference_dict.items()):\n",
    "    reference = dict()\n",
    "    modified_files = list()\n",
    "    code_references = list()\n",
    "\n",
    "    if key in pr_map:\n",
    "        modified_files = list(pr_map[key])\n",
    "\n",
    "    if key in code_reference_dict:\n",
    "        code_references = code_reference_dict[key]\n",
    "\n",
    "    reference['fix_id'] = key                                   # id of the fix\n",
    "    reference['modified_files'] = modified_files                # file modified in the fix\n",
    "    reference['referenced_files'] = values                      # file referenced in the bug discussion\n",
    "    reference['reference_counter'] = len(values)                # number of referenced file in bug discussion\n",
    "    reference['referenced_code_elements'] = code_references     # references to code elements\n",
    "    parsed_references = list()\n",
    "\n",
    "    for file_path in modified_files:\n",
    "        highest_sim = 0\n",
    "        parsed_filename = None\n",
    "        for file_reference in values:\n",
    "            new_sim = similarity_checker.end_root_similarity(file_path, file_reference)\n",
    "            if new_sim >= 0.8 and new_sim > highest_sim:\n",
    "                highest_sim = new_sim\n",
    "                parsed_filename = file_path\n",
    "\n",
    "            elif new_sim == 1:\n",
    "                parsed_filename = file_path\n",
    "                continue\n",
    "\n",
    "        if parsed_filename is not None:\n",
    "            parsed_references.append(parsed_filename)\n",
    "\n",
    "    reference['parsed_references'] = parsed_references          #  file referenced in the issue converted in file modified since path similarity\n",
    "    reference['parsed_counter'] = len(parsed_references)        #  counter of files referenced in the issue parsed in modified files\n",
    "\n",
    "    reference['bug_ids'] = fix_bug_id_map[key]      # ids of the bugs associated to the fix\n",
    "\n",
    "    bug_files = list()\n",
    "    if fix_bug_id_map[key]:\n",
    "        for bug_id in fix_bug_id_map[key]:\n",
    "            if bug_id in pr_map:\n",
    "                bug_files.extend(list(pr_map[bug_id]))\n",
    "\n",
    "    reference['bug_files'] = list(set(bug_files))           # files associated to the bug\n",
    "\n",
    "    parsed_bug_references = list()\n",
    "\n",
    "    for file_path in set(bug_files):\n",
    "        highest_sim = 0\n",
    "        parsed_filename = None\n",
    "        for file_reference in values:\n",
    "            new_sim = similarity_checker.end_root_similarity(file_path, file_reference)\n",
    "            if new_sim >= 0.8 and new_sim > highest_sim:\n",
    "                highest_sim = new_sim\n",
    "                parsed_filename = file_path\n",
    "\n",
    "            elif new_sim == 1:\n",
    "                parsed_filename = file_path\n",
    "                continue\n",
    "\n",
    "        if parsed_filename is not None:\n",
    "            parsed_bug_references.append(parsed_filename)\n",
    "\n",
    "    reference['parsed_bug_references'] = parsed_bug_references          #  file referenced in the issue converted in buggy files since path similarity\n",
    "    reference['parsed_bug_counter'] = len(parsed_bug_references)        #  counter of files referenced in the issue parsed into buggy files\n",
    "    strict_repo_references = list()\n",
    "    relaxed_repo_references = list()\n",
    "    has_duplicates = False\n",
    "    for file_reference in values:\n",
    "        filename = file_reference.split('/')[-1]\n",
    "        if filename in moz_filepaths:\n",
    "            highest_sim = 0\n",
    "            parsed_filename = None\n",
    "            duplicate = False\n",
    "            duplicate_dict = dict()\n",
    "            for filepath in moz_filepaths[filename]:\n",
    "                new_sim = similarity_checker.end_root_similarity(filepath, file_reference)\n",
    "                if new_sim > 0.8 and new_sim > highest_sim:\n",
    "                    parsed_filename = filepath\n",
    "                    highest_sim = new_sim\n",
    "\n",
    "                if new_sim == 1 and new_sim == highest_sim:\n",
    "                    duplicate = True\n",
    "                    duplicate_dict.setdefault(filename, set()).add(parsed_filename)\n",
    "                    duplicate_dict[filename].add(filepath)\n",
    "\n",
    "            if duplicate:\n",
    "                for file_name in duplicate_dict.keys():\n",
    "                    max_sim = 0\n",
    "                    to_add = None\n",
    "                    for file_path in duplicate_dict[file_name]:\n",
    "                        for file_ref in modified_files:\n",
    "                            local_sim = similarity_checker.end_root_similarity(file_path, file_ref)\n",
    "                            if local_sim > max_sim:\n",
    "                                to_add = '/'.join(file_path.split('/')[1:])\n",
    "                                max_sim = local_sim\n",
    "\n",
    "                    if to_add is not None and max_sim > 0.5:\n",
    "                        relaxed_repo_references.append(to_add)\n",
    "\n",
    "            elif not duplicate and parsed_filename is not None:\n",
    "                parsed_filename = '/'.join(parsed_filename.split('/')[1:])\n",
    "                strict_repo_references.append(parsed_filename)\n",
    "\n",
    "\n",
    "            has_duplicates = has_duplicates or duplicate\n",
    "\n",
    "        #else:\n",
    "            #logging.info(f'Missing: file {file_reference} not in current repo version. Path not retrievable')\n",
    "\n",
    "    strict_repo_references = list(set(strict_repo_references))\n",
    "    relaxed_repo_references = list(set(relaxed_repo_references))\n",
    "\n",
    "    reference['strict_repo_references'] = strict_repo_references            # file referenced in the issue converted in a file of the repository based on path similarity\n",
    "    reference['strict_repo_counter'] = len(strict_repo_references)          # counter of files referenced in the issue and referenced into a file of the repository\n",
    "\n",
    "    reference['relaxed_repo_references'] = relaxed_repo_references          # file referenced in the issue converted in a file of the repository based on path similarity with modified files\n",
    "    reference['relaxed_repo_counter'] = len(relaxed_repo_references)        # counter of file referenced in the issue converted in a file of the repository based on path similarity with modified files\n",
    "    reference['has_duplicates_repo_reference'] = has_duplicates\n",
    "\n",
    "    reference['fix_reference_shared'] = len(set(modified_files).intersection(set(reference['referenced_files'])))           # files shared between fix and discussion\n",
    "    reference['bug_reference_shared'] = len(set(bug_files).intersection(set(reference['referenced_files'])))                # files shared between bug and discussion\n",
    "\n",
    "    reference['fix_fixsim_reference_shared'] = len(set(modified_files).intersection(set(reference['parsed_references'])))       # files shared between fix and discussion after fix parsing\n",
    "    reference['bug_fixsim_reference_shared'] = len(set(bug_files).intersection(set(reference['parsed_references'])))            # files shared between bug and discussion after fix parsing\n",
    "\n",
    "    reference['fix_bugsim_reference_shared'] = len(set(modified_files).intersection(set(reference['parsed_bug_references'])))       # files shared between fix and discussion after bug parsing\n",
    "    reference['bug_bugsim_reference_shared'] = len(set(bug_files).intersection(set(reference['parsed_bug_references'])))            # files shared between bug and discussion after bug parsing\n",
    "\n",
    "\n",
    "    reference['has_references'] = True if reference['reference_counter'] > 0 else False\n",
    "\n",
    "    # A reference is valuable if it appears in either the bug or the fix commits\n",
    "    reference['has_valuable_reference'] = True if (reference['parsed_counter'] > 0 or reference['parsed_bug_counter'] > 0) else False\n",
    "\n",
    "    # A strict reference is a reference with an exact match in the repository, and it is valuable if it appears in either the bug of the fix commits\n",
    "    reference['has_strict_repo_valuable_reference'] = True if (set(reference['strict_repo_references']).intersection(set(reference['parsed_references'])) or\n",
    "                                                    set(reference['strict_repo_references']).intersection(set(reference['parsed_bug_references']))) else False\n",
    "\n",
    "    # A relaxed reference is a reference with an partial match in the repository, and it is valuable if it appears in either the bug of the fix commits\n",
    "    reference['has_relaxed_repo_valuable_reference'] = True if (set(reference['relaxed_repo_references']).intersection(set(reference['parsed_references'])) or\n",
    "                                                    set(reference['relaxed_repo_references']).intersection(set(reference['parsed_bug_references']))) else False\n",
    "\n",
    "\n",
    "    extrinsic_reference = False\n",
    "    extrinsic_bug = False\n",
    "    if not set(reference['modified_files']).intersection(set(reference['bug_files'])):\n",
    "        extrinsic_bug = True\n",
    "        if reference['bug_reference_shared'] > 0 or reference['bug_bugsim_reference_shared'] > 0 or reference['bug_fixsim_reference_shared'] > 0:\n",
    "            extrinsic_reference = True\n",
    "\n",
    "    reference['extrinsic_bug'] = extrinsic_bug                  # the bug is extrinsic\n",
    "    reference['extrinsic_reference'] = extrinsic_reference      # the bug is extrinsic but there is a reference usable to link it\n",
    "\n",
    "    included_subset = False\n",
    "    same_set = False\n",
    "    if len(reference['referenced_files']) > 0:\n",
    "        if reference['fix_reference_shared'] > 0 or reference['fix_fixsim_reference_shared'] > 0 or reference['fix_bugsim_reference_shared'] > 0:\n",
    "                included_subset = True\n",
    "                if reference['fix_reference_shared'] == len(reference['modified_files']) or reference['fix_fixsim_reference_shared'] == len(reference['modified_files']) or reference['fix_bugsim_reference_shared'] == len(reference['modified_files']):\n",
    "                    same_set = True\n",
    "\n",
    "    reference['included_subset'] = included_subset      # the fix has some files discussed in the bug ticket\n",
    "    reference['same_set'] = same_set                    # the fix has the same file discussed in the bug ticket\n",
    "    reference['reduced_noise'] = True if included_subset and not same_set else False\n",
    "\n",
    "    linkable = True if set(bug_files).intersection(set(modified_files)) else False\n",
    "    reference['is_linkable'] = linkable         # the fix and the bug shares at least one file\n",
    "\n",
    "    ref_linkable = True if linkable or (not linkable and extrinsic_reference) else False\n",
    "    reference['is_linkable_with_ref'] = ref_linkable    # the fix and the bug are linkable if also using the reference\n",
    "\n",
    "\n",
    "\n",
    "    full_data.append(reference)\n",
    "\n",
    "full_data_pd = pd.DataFrame(full_data)\n",
    "full_data_pd.to_csv(path.join('full_data.csv'))"
   ]
  },
  {
   "cell_type": "code",
   "execution_count": null,
   "metadata": {
    "collapsed": false,
    "jupyter": {
     "outputs_hidden": false
    }
   },
   "outputs": [],
   "source": [
    "full_data_pd"
   ]
  },
  {
   "cell_type": "markdown",
   "metadata": {
    "collapsed": false,
    "jupyter": {
     "outputs_hidden": false
    }
   },
   "source": [
    "# How many bug tickets contain file references?"
   ]
  },
  {
   "cell_type": "code",
   "execution_count": null,
   "metadata": {
    "collapsed": false,
    "jupyter": {
     "outputs_hidden": false
    }
   },
   "outputs": [],
   "source": [
    "referenced = full_data_pd['has_references'].value_counts()\n",
    "referenced_norm = full_data_pd['has_references'].value_counts(normalize=True)\n",
    "referenced_df = pd.concat([referenced, referenced_norm], axis=1)\n",
    "referenced_df.columns = ['count', 'norm']\n",
    "referenced_df['cum_perc'] = referenced_df['norm'].cumsum()*100"
   ]
  },
  {
   "cell_type": "code",
   "execution_count": null,
   "metadata": {
    "collapsed": false,
    "jupyter": {
     "outputs_hidden": false
    }
   },
   "outputs": [],
   "source": [
    "referenced_df"
   ]
  },
  {
   "cell_type": "markdown",
   "metadata": {
    "collapsed": false,
    "jupyter": {
     "outputs_hidden": false
    }
   },
   "source": [
    "# How many bug tickets contain a reference that can be used to refine SZZ?"
   ]
  },
  {
   "cell_type": "code",
   "execution_count": null,
   "metadata": {
    "collapsed": false,
    "jupyter": {
     "outputs_hidden": false
    }
   },
   "outputs": [],
   "source": [
    "valuable_referenced = full_data_pd['has_valuable_reference'].value_counts()\n",
    "valuable_referenced_norm = full_data_pd['has_valuable_reference'].value_counts(normalize=True)\n",
    "valuable_referenced_df = pd.concat([valuable_referenced, valuable_referenced_norm], axis=1)\n",
    "valuable_referenced_df.columns = ['count', 'norm']\n",
    "valuable_referenced_df['cum_perc'] = valuable_referenced_df['norm'].cumsum()*100"
   ]
  },
  {
   "cell_type": "code",
   "execution_count": null,
   "metadata": {
    "collapsed": false,
    "jupyter": {
     "outputs_hidden": false
    }
   },
   "outputs": [],
   "source": [
    "valuable_referenced_df"
   ]
  },
  {
   "cell_type": "markdown",
   "metadata": {
    "collapsed": false,
    "jupyter": {
     "outputs_hidden": false
    }
   },
   "source": [
    "# How many bug tickets contains a valuable reference that can be parsed to Mozilla's file and used to refine SZZ?"
   ]
  },
  {
   "cell_type": "code",
   "execution_count": null,
   "metadata": {
    "collapsed": false,
    "jupyter": {
     "outputs_hidden": false
    }
   },
   "outputs": [],
   "source": [
    "valuable_repo_referenced = full_data_pd['has_relaxed_repo_valuable_reference'].value_counts()\n",
    "valuable_repo_referenced_norm = full_data_pd['has_relaxed_repo_valuable_reference'].value_counts(normalize=True)\n",
    "valuable_repo_referenced_df = pd.concat([valuable_repo_referenced, valuable_repo_referenced_norm], axis=1)\n",
    "valuable_repo_referenced_df.columns = ['count', 'norm']\n",
    "valuable_repo_referenced_df['cum_perc'] = valuable_referenced_df['norm'].cumsum()*100"
   ]
  },
  {
   "cell_type": "code",
   "execution_count": null,
   "metadata": {
    "collapsed": false,
    "jupyter": {
     "outputs_hidden": false
    }
   },
   "outputs": [],
   "source": [
    "valuable_repo_referenced_df"
   ]
  },
  {
   "cell_type": "markdown",
   "metadata": {
    "collapsed": false,
    "jupyter": {
     "outputs_hidden": false
    }
   },
   "source": [
    "# How many bugs can be linked by SZZ?"
   ]
  },
  {
   "cell_type": "code",
   "execution_count": null,
   "metadata": {
    "collapsed": false,
    "jupyter": {
     "outputs_hidden": false
    }
   },
   "outputs": [],
   "source": [
    "linkable = full_data_pd['is_linkable'].value_counts()\n",
    "linkable_norm = full_data_pd['is_linkable'].value_counts(normalize=True)\n",
    "linkable_df = pd.concat([linkable, linkable_norm], axis=1)\n",
    "linkable_df.columns = ['count', 'norm']\n",
    "linkable_df['cum_perc'] = linkable_df['norm'].cumsum()*100"
   ]
  },
  {
   "cell_type": "code",
   "execution_count": null,
   "metadata": {
    "collapsed": false,
    "jupyter": {
     "outputs_hidden": false
    }
   },
   "outputs": [],
   "source": [
    "linkable_df"
   ]
  },
  {
   "cell_type": "markdown",
   "metadata": {
    "collapsed": false,
    "jupyter": {
     "outputs_hidden": false
    }
   },
   "source": [
    "# How many bugs can be linked by SZZ adding file references?"
   ]
  },
  {
   "cell_type": "code",
   "execution_count": null,
   "metadata": {
    "collapsed": false,
    "jupyter": {
     "outputs_hidden": false
    }
   },
   "outputs": [],
   "source": [
    "linkable_ref = full_data_pd['is_linkable_with_ref'].value_counts()\n",
    "linkable_ref_norm = full_data_pd['is_linkable_with_ref'].value_counts(normalize=True)\n",
    "linkable_ref_df = pd.concat([linkable_ref, linkable_ref_norm], axis=1)\n",
    "linkable_ref_df.columns = ['count', 'norm']\n",
    "linkable_ref_df['cum_perc'] = linkable_ref_df['norm'].cumsum()*100"
   ]
  },
  {
   "cell_type": "code",
   "execution_count": null,
   "metadata": {
    "collapsed": false,
    "jupyter": {
     "outputs_hidden": false
    }
   },
   "outputs": [],
   "source": [
    "linkable_ref_df"
   ]
  },
  {
   "cell_type": "markdown",
   "metadata": {
    "collapsed": false,
    "jupyter": {
     "outputs_hidden": false
    }
   },
   "source": [
    "# How many bugs can be detangled?"
   ]
  },
  {
   "cell_type": "code",
   "execution_count": null,
   "metadata": {
    "collapsed": false,
    "jupyter": {
     "outputs_hidden": false
    }
   },
   "outputs": [],
   "source": [
    "noise_ref = full_data_pd['reduced_noise'].value_counts()\n",
    "noise_ref_norm = full_data_pd['reduced_noise'].value_counts(normalize=True)\n",
    "noise_ref_df = pd.concat([noise_ref, noise_ref_norm], axis=1)\n",
    "noise_ref_df.columns = ['count', 'norm']\n",
    "noise_ref_df['cum_perc'] = noise_ref_df['norm'].cumsum()*100"
   ]
  },
  {
   "cell_type": "code",
   "execution_count": null,
   "metadata": {
    "collapsed": false,
    "jupyter": {
     "outputs_hidden": false
    }
   },
   "outputs": [],
   "source": [
    "noise_ref_df"
   ]
  },
  {
   "cell_type": "markdown",
   "metadata": {
    "collapsed": false,
    "jupyter": {
     "outputs_hidden": false
    }
   },
   "source": [
    "# How many extrinsic bug can be detected by discussion files?"
   ]
  },
  {
   "cell_type": "code",
   "execution_count": null,
   "metadata": {
    "collapsed": false,
    "jupyter": {
     "outputs_hidden": false
    }
   },
   "outputs": [],
   "source": [
    "bug_references = full_data_pd['extrinsic_reference'].value_counts()\n",
    "bug_references_norm = full_data_pd['extrinsic_reference'].value_counts(normalize=True)\n",
    "bug_references_df = pd.concat([bug_references, bug_references_norm], axis=1)\n",
    "bug_references_df.columns = ['count', 'norm']\n",
    "bug_references_df['cum_perc'] = bug_references_df['norm'].cumsum()*100"
   ]
  },
  {
   "cell_type": "code",
   "execution_count": null,
   "metadata": {
    "collapsed": false,
    "jupyter": {
     "outputs_hidden": false
    }
   },
   "outputs": [],
   "source": [
    "bug_references_df"
   ]
  },
  {
   "cell_type": "markdown",
   "metadata": {
    "collapsed": false,
    "jupyter": {
     "outputs_hidden": false
    }
   },
   "source": [
    "# How many references to fix files are in tickets?"
   ]
  },
  {
   "cell_type": "code",
   "execution_count": null,
   "metadata": {
    "collapsed": false,
    "jupyter": {
     "outputs_hidden": false
    }
   },
   "outputs": [],
   "source": [
    "ref_pd = full_data_pd.copy()\n",
    "ref_pd = ref_pd.loc[ref_pd['parsed_counter'] > 0]\n",
    "fix_references_box = ref_pd.boxplot('parsed_counter', showfliers=False)\n",
    "plt.show()"
   ]
  },
  {
   "cell_type": "markdown",
   "metadata": {
    "collapsed": false,
    "jupyter": {
     "outputs_hidden": false
    }
   },
   "source": [
    "# How many references to bug files are in tickes?"
   ]
  },
  {
   "cell_type": "code",
   "execution_count": null,
   "metadata": {
    "collapsed": false,
    "jupyter": {
     "outputs_hidden": false
    }
   },
   "outputs": [],
   "source": [
    "bug_ref_pd = full_data_pd.copy()\n",
    "bug_ref_pd = bug_ref_pd.loc[bug_ref_pd['parsed_bug_counter'] > 0]\n",
    "bug_references_box = bug_ref_pd.boxplot('parsed_bug_counter', showfliers=False)\n",
    "plt.show()"
   ]
  },
  {
   "cell_type": "markdown",
   "metadata": {
    "collapsed": false,
    "jupyter": {
     "outputs_hidden": false
    }
   },
   "source": [
    "# How many references can be parsed into Mozilla's file"
   ]
  },
  {
   "cell_type": "code",
   "execution_count": null,
   "metadata": {
    "collapsed": false,
    "jupyter": {
     "outputs_hidden": false
    }
   },
   "outputs": [],
   "source": [
    "repo_ref_pd = full_data_pd.copy()\n",
    "repo_ref_pd = repo_ref_pd.loc[repo_ref_pd['relaxed_repo_counter'] > 0]\n",
    "repo_references_box = repo_ref_pd.boxplot('relaxed_repo_counter', showfliers=False)\n",
    "plt.show()"
   ]
  },
  {
   "cell_type": "code",
   "execution_count": 165,
   "metadata": {
    "collapsed": false,
    "jupyter": {
     "outputs_hidden": false
    }
   },
   "outputs": [
    {
     "data": {
      "image/png": "[encoded data removed]",
      "text/plain": [
       "<Figure size 640x480 with 1 Axes>"
      ]
     },
     "metadata": {},
     "output_type": "display_data"
    }
   ],
   "source": [
    "ref_pd = full_data_pd.copy()\n",
    "ref_pd = ref_pd.loc[ref_pd['parsed_counter'] > 0]\n",
    "fix_references_box = ref_pd.boxplot('parsed_counter', showfliers=False)\n",
    "plt.show()"
   ]
  },
  {
   "cell_type": "markdown",
   "metadata": {
    "collapsed": false,
    "jupyter": {
     "outputs_hidden": false
    }
   },
   "source": [
    "# How many references to bug files are in tickes?"
   ]
  },
  {
   "cell_type": "code",
   "execution_count": 166,
   "metadata": {
    "collapsed": false,
    "jupyter": {
     "outputs_hidden": false
    }
   },
   "outputs": [
    {
     "data": {
      "image/png": "[encoded data removed]",
      "text/plain": [
       "<Figure size 640x480 with 1 Axes>"
      ]
     },
     "metadata": {},
     "output_type": "display_data"
    }
   ],
   "source": [
    "bug_ref_pd = full_data_pd.copy()\n",
    "bug_ref_pd = bug_ref_pd.loc[bug_ref_pd['parsed_bug_counter'] > 0]\n",
    "bug_references_box = bug_ref_pd.boxplot('parsed_bug_counter', showfliers=False)\n",
    "plt.show()"
   ]
  },
  {
   "cell_type": "markdown",
   "metadata": {
    "collapsed": false,
    "jupyter": {
     "outputs_hidden": false
    }
   },
   "source": [
    "# How many references can be parsed into Mozilla's file"
   ]
  },
  {
   "cell_type": "code",
   "execution_count": 167,
   "metadata": {
    "collapsed": false,
    "jupyter": {
     "outputs_hidden": false
    }
   },
   "outputs": [
    {
     "data": {
      "image/png": "[encoded data removed]",
      "text/plain": [
       "<Figure size 640x480 with 1 Axes>"
      ]
     },
     "metadata": {},
     "output_type": "display_data"
    }
   ],
   "source": [
    "repo_ref_pd = full_data_pd.copy()\n",
    "repo_ref_pd = repo_ref_pd.loc[repo_ref_pd['relaxed_repo_counter'] > 0]\n",
    "repo_references_box = repo_ref_pd.boxplot('relaxed_repo_counter', showfliers=False)\n",
    "plt.show()"
   ]
  },
  {
   "cell_type": "code",
   "execution_count": 171,
   "metadata": {
    "collapsed": false,
    "jupyter": {
     "outputs_hidden": false
    }
   },
   "outputs": [],
   "source": [
    "extrinsic_bug = full_data_pd.copy()\n",
    "extrinsic_bug = extrinsic_bug.loc[extrinsic_bug['extrinsic_reference'] == True]"
   ]
  },
  {
   "cell_type": "code",
   "execution_count": 172,
   "metadata": {
    "collapsed": false,
    "jupyter": {
     "outputs_hidden": false
    }
   },
   "outputs": [
    {
     "data": {
      "text/html": [
       "<div>\n",
       "<style scoped>\n",
       "    .dataframe tbody tr th:only-of-type {\n",
       "        vertical-align: middle;\n",
       "    }\n",
       "\n",
       "    .dataframe tbody tr th {\n",
       "        vertical-align: top;\n",
       "    }\n",
       "\n",
       "    .dataframe thead th {\n",
       "        text-align: right;\n",
       "    }\n",
       "</style>\n",
       "<table border=\"1\" class=\"dataframe\">\n",
       "  <thead>\n",
       "    <tr style=\"text-align: right;\">\n",
       "      <th></th>\n",
       "      <th>fix_id</th>\n",
       "      <th>modified_files</th>\n",
       "      <th>referenced_files</th>\n",
       "      <th>reference_counter</th>\n",
       "      <th>referenced_code_elements</th>\n",
       "      <th>parsed_references</th>\n",
       "      <th>parsed_counter</th>\n",
       "      <th>bug_ids</th>\n",
       "      <th>bug_files</th>\n",
       "      <th>parsed_bug_references</th>\n",
       "      <th>...</th>\n",
       "      <th>has_valuable_reference</th>\n",
       "      <th>has_strict_repo_valuable_reference</th>\n",
       "      <th>has_relaxed_repo_valuable_reference</th>\n",
       "      <th>extrinsic_bug</th>\n",
       "      <th>extrinsic_reference</th>\n",
       "      <th>included_subset</th>\n",
       "      <th>same_set</th>\n",
       "      <th>reduced_noise</th>\n",
       "      <th>is_linkable</th>\n",
       "      <th>is_linkable_with_ref</th>\n",
       "    </tr>\n",
       "  </thead>\n",
       "  <tbody>\n",
       "    <tr>\n",
       "      <th>6</th>\n",
       "      <td>1472626</td>\n",
       "      <td>[browser/modules/FaviconLoader.jsm]</td>\n",
       "      <td>[webglsamples.org/aquarium/aquarium.html, modu...</td>\n",
       "      <td>5</td>\n",
       "      <td>[sentry.prod.mozaws.net/operations/nightly-js-...</td>\n",
       "      <td>[]</td>\n",
       "      <td>0</td>\n",
       "      <td>{1453751}</td>\n",
       "      <td>[toolkit/components/extensions/test/mochitest/...</td>\n",
       "      <td>[browser/base/content/browser.js]</td>\n",
       "      <td>...</td>\n",
       "      <td>True</td>\n",
       "      <td>False</td>\n",
       "      <td>False</td>\n",
       "      <td>True</td>\n",
       "      <td>True</td>\n",
       "      <td>False</td>\n",
       "      <td>False</td>\n",
       "      <td>False</td>\n",
       "      <td>False</td>\n",
       "      <td>True</td>\n",
       "    </tr>\n",
       "    <tr>\n",
       "      <th>22</th>\n",
       "      <td>1556119</td>\n",
       "      <td>[js/src/shell/js.cpp]</td>\n",
       "      <td>[js/src/shell/js.cpp, js/src/vm/Interpreter.cp...</td>\n",
       "      <td>3</td>\n",
       "      <td>[js_arena_malloc, home/ubuntu/shell-cache/js-6...</td>\n",
       "      <td>[js/src/shell/js.cpp]</td>\n",
       "      <td>1</td>\n",
       "      <td>{1290287}</td>\n",
       "      <td>[js/src/vm/HelperThreads.h, js/src/vm/PosixNSP...</td>\n",
       "      <td>[js/src/vm/HelperThreads.h, js/src/vm/PosixNSP...</td>\n",
       "      <td>...</td>\n",
       "      <td>True</td>\n",
       "      <td>False</td>\n",
       "      <td>False</td>\n",
       "      <td>True</td>\n",
       "      <td>True</td>\n",
       "      <td>True</td>\n",
       "      <td>True</td>\n",
       "      <td>False</td>\n",
       "      <td>False</td>\n",
       "      <td>True</td>\n",
       "    </tr>\n",
       "    <tr>\n",
       "      <th>23</th>\n",
       "      <td>1556220</td>\n",
       "      <td>[js/src/jit/CacheIR.cpp]</td>\n",
       "      <td>[js/src/jit/IonCacheIRCompiler.cpp, js/src/jit...</td>\n",
       "      <td>3</td>\n",
       "      <td>[ionScript=0x7fd80c3fe000, arrayType=js, store...</td>\n",
       "      <td>[js/src/jit/CacheIR.cpp]</td>\n",
       "      <td>1</td>\n",
       "      <td>{1456569}</td>\n",
       "      <td>[js/src/vm/CommonPropertyNames.h, js/src/tests...</td>\n",
       "      <td>[js/src/jit/IonTypes.h, js/src/jit/MacroAssemb...</td>\n",
       "      <td>...</td>\n",
       "      <td>True</td>\n",
       "      <td>False</td>\n",
       "      <td>False</td>\n",
       "      <td>True</td>\n",
       "      <td>True</td>\n",
       "      <td>True</td>\n",
       "      <td>True</td>\n",
       "      <td>False</td>\n",
       "      <td>False</td>\n",
       "      <td>True</td>\n",
       "    </tr>\n",
       "    <tr>\n",
       "      <th>28</th>\n",
       "      <td>1562146</td>\n",
       "      <td>[js/src/jit-test/tests/fields/bug1562146.js, j...</td>\n",
       "      <td>[builds/worker/workspace/build/src/js/src/jit-...</td>\n",
       "      <td>19</td>\n",
       "      <td>[hg.mozilla.org/mozilla-central/rev/27f0cd20a8...</td>\n",
       "      <td>[js/src/jit-test/tests/fields/bug1562146.js, j...</td>\n",
       "      <td>2</td>\n",
       "      <td>{1529772}</td>\n",
       "      <td>[js/src/tests/jstests.list, js/src/jit-test/te...</td>\n",
       "      <td>[js/src/jit-test/tests/fields/error.js, js/src...</td>\n",
       "      <td>...</td>\n",
       "      <td>True</td>\n",
       "      <td>False</td>\n",
       "      <td>True</td>\n",
       "      <td>True</td>\n",
       "      <td>True</td>\n",
       "      <td>True</td>\n",
       "      <td>True</td>\n",
       "      <td>False</td>\n",
       "      <td>False</td>\n",
       "      <td>True</td>\n",
       "    </tr>\n",
       "    <tr>\n",
       "      <th>32</th>\n",
       "      <td>1564012</td>\n",
       "      <td>[js/src/jit-test/tests/debug/bug-1564012.js]</td>\n",
       "      <td>[js/src/gc/Tracer.cpp, home/ubuntu/shell-cache...</td>\n",
       "      <td>5</td>\n",
       "      <td>[doTrace, dispatchToOnEdge, newCompartment, ne...</td>\n",
       "      <td>[js/src/jit-test/tests/debug/bug-1564012.js]</td>\n",
       "      <td>1</td>\n",
       "      <td>{1560754}</td>\n",
       "      <td>[js/src/jit-test/tests/debug/bug1557343-2.js, ...</td>\n",
       "      <td>[js/src/jit-test/tests/debug/bug1557343-2.js]</td>\n",
       "      <td>...</td>\n",
       "      <td>True</td>\n",
       "      <td>False</td>\n",
       "      <td>False</td>\n",
       "      <td>True</td>\n",
       "      <td>True</td>\n",
       "      <td>True</td>\n",
       "      <td>True</td>\n",
       "      <td>False</td>\n",
       "      <td>False</td>\n",
       "      <td>True</td>\n",
       "    </tr>\n",
       "    <tr>\n",
       "      <th>...</th>\n",
       "      <td>...</td>\n",
       "      <td>...</td>\n",
       "      <td>...</td>\n",
       "      <td>...</td>\n",
       "      <td>...</td>\n",
       "      <td>...</td>\n",
       "      <td>...</td>\n",
       "      <td>...</td>\n",
       "      <td>...</td>\n",
       "      <td>...</td>\n",
       "      <td>...</td>\n",
       "      <td>...</td>\n",
       "      <td>...</td>\n",
       "      <td>...</td>\n",
       "      <td>...</td>\n",
       "      <td>...</td>\n",
       "      <td>...</td>\n",
       "      <td>...</td>\n",
       "      <td>...</td>\n",
       "      <td>...</td>\n",
       "      <td>...</td>\n",
       "    </tr>\n",
       "    <tr>\n",
       "      <th>12415</th>\n",
       "      <td>1797999</td>\n",
       "      <td>[testing/web-platform/meta/fetch/orb/tentative...</td>\n",
       "      <td>[fetch/orb/tentative/img-mime-types-coverage.t...</td>\n",
       "      <td>1</td>\n",
       "      <td>[06.239Z, Content-Type, ORB, 06.181Z, assert_u...</td>\n",
       "      <td>[]</td>\n",
       "      <td>0</td>\n",
       "      <td>{1785331}</td>\n",
       "      <td>[netwerk/test/unit_ipc/test_orb_empty_header_w...</td>\n",
       "      <td>[testing/web-platform/tests/fetch/orb/tentativ...</td>\n",
       "      <td>...</td>\n",
       "      <td>True</td>\n",
       "      <td>False</td>\n",
       "      <td>True</td>\n",
       "      <td>True</td>\n",
       "      <td>True</td>\n",
       "      <td>False</td>\n",
       "      <td>False</td>\n",
       "      <td>False</td>\n",
       "      <td>False</td>\n",
       "      <td>True</td>\n",
       "    </tr>\n",
       "    <tr>\n",
       "      <th>12427</th>\n",
       "      <td>1799252</td>\n",
       "      <td>[]</td>\n",
       "      <td>[usr/src/debug/gtk3-3.24.34-2.fc37.x86_64/gdk/...</td>\n",
       "      <td>6</td>\n",
       "      <td>[bp-a56bba93-fac0-41c1-8408-7eee10221105, wl_d...</td>\n",
       "      <td>[]</td>\n",
       "      <td>0</td>\n",
       "      <td>{1796130}</td>\n",
       "      <td>[widget/gtk/WaylandVsyncSource.cpp, widget/gtk...</td>\n",
       "      <td>[widget/gtk/WaylandVsyncSource.cpp, widget/gtk...</td>\n",
       "      <td>...</td>\n",
       "      <td>True</td>\n",
       "      <td>False</td>\n",
       "      <td>False</td>\n",
       "      <td>True</td>\n",
       "      <td>True</td>\n",
       "      <td>False</td>\n",
       "      <td>False</td>\n",
       "      <td>False</td>\n",
       "      <td>False</td>\n",
       "      <td>True</td>\n",
       "    </tr>\n",
       "    <tr>\n",
       "      <th>12431</th>\n",
       "      <td>1799569</td>\n",
       "      <td>[testing/web-platform/meta/css/css-contain/con...</td>\n",
       "      <td>[hg.mozilla.org/mozilla-central/raw-file/tip/l...</td>\n",
       "      <td>4</td>\n",
       "      <td>[MOZ_LOG=signaling, 23.375Z, treeherder.mozill...</td>\n",
       "      <td>[testing/web-platform/meta/css/css-contain/con...</td>\n",
       "      <td>1</td>\n",
       "      <td>{1797424}</td>\n",
       "      <td>[testing/web-platform/meta/xhr/xmlhttprequest-...</td>\n",
       "      <td>[testing/web-platform/meta/css/css-contain/con...</td>\n",
       "      <td>...</td>\n",
       "      <td>True</td>\n",
       "      <td>False</td>\n",
       "      <td>False</td>\n",
       "      <td>True</td>\n",
       "      <td>True</td>\n",
       "      <td>True</td>\n",
       "      <td>True</td>\n",
       "      <td>False</td>\n",
       "      <td>False</td>\n",
       "      <td>True</td>\n",
       "    </tr>\n",
       "    <tr>\n",
       "      <th>12438</th>\n",
       "      <td>1800494</td>\n",
       "      <td>[testing/mozbase/mozlog/mozlog/formatters/mach...</td>\n",
       "      <td>[mochitests/content/a11y/accessible/tests/moch...</td>\n",
       "      <td>9</td>\n",
       "      <td>[self._format_status, INFO, needinfo_regressio...</td>\n",
       "      <td>[testing/mozbase/mozlog/mozlog/formatters/mach...</td>\n",
       "      <td>1</td>\n",
       "      <td>{1744340}</td>\n",
       "      <td>[third_party/python/blessings/blessings-1.7.di...</td>\n",
       "      <td>[third_party/python/blessed/blessed/colorspace...</td>\n",
       "      <td>...</td>\n",
       "      <td>True</td>\n",
       "      <td>False</td>\n",
       "      <td>False</td>\n",
       "      <td>True</td>\n",
       "      <td>True</td>\n",
       "      <td>True</td>\n",
       "      <td>True</td>\n",
       "      <td>False</td>\n",
       "      <td>False</td>\n",
       "      <td>True</td>\n",
       "    </tr>\n",
       "    <tr>\n",
       "      <th>12464</th>\n",
       "      <td>1805601</td>\n",
       "      <td>[gfx/layers/apz/src/AsyncPanZoomController.cpp...</td>\n",
       "      <td>[searchfox.org/mozilla-central/rev/f40d29a11f2...</td>\n",
       "      <td>1</td>\n",
       "      <td>[QA, archive.mozilla.org/pub/firefox/nightly/l...</td>\n",
       "      <td>[]</td>\n",
       "      <td>0</td>\n",
       "      <td>{1519339}</td>\n",
       "      <td>[gfx/layers/apz/test/mochitest/test_group_main...</td>\n",
       "      <td>[layout/generic/nsGfxScrollFrame.h, layout/gen...</td>\n",
       "      <td>...</td>\n",
       "      <td>True</td>\n",
       "      <td>False</td>\n",
       "      <td>False</td>\n",
       "      <td>True</td>\n",
       "      <td>True</td>\n",
       "      <td>False</td>\n",
       "      <td>False</td>\n",
       "      <td>False</td>\n",
       "      <td>False</td>\n",
       "      <td>True</td>\n",
       "    </tr>\n",
       "  </tbody>\n",
       "</table>\n",
       "<p>1436 rows × 33 columns</p>\n",
       "</div>"
      ],
      "text/plain": [
       "        fix_id                                     modified_files  \\\n",
       "6      1472626                [browser/modules/FaviconLoader.jsm]   \n",
       "22     1556119                              [js/src/shell/js.cpp]   \n",
       "23     1556220                           [js/src/jit/CacheIR.cpp]   \n",
       "28     1562146  [js/src/jit-test/tests/fields/bug1562146.js, j...   \n",
       "32     1564012       [js/src/jit-test/tests/debug/bug-1564012.js]   \n",
       "...        ...                                                ...   \n",
       "12415  1797999  [testing/web-platform/meta/fetch/orb/tentative...   \n",
       "12427  1799252                                                 []   \n",
       "12431  1799569  [testing/web-platform/meta/css/css-contain/con...   \n",
       "12438  1800494  [testing/mozbase/mozlog/mozlog/formatters/mach...   \n",
       "12464  1805601  [gfx/layers/apz/src/AsyncPanZoomController.cpp...   \n",
       "\n",
       "                                        referenced_files  reference_counter  \\\n",
       "6      [webglsamples.org/aquarium/aquarium.html, modu...                  5   \n",
       "22     [js/src/shell/js.cpp, js/src/vm/Interpreter.cp...                  3   \n",
       "23     [js/src/jit/IonCacheIRCompiler.cpp, js/src/jit...                  3   \n",
       "28     [builds/worker/workspace/build/src/js/src/jit-...                 19   \n",
       "32     [js/src/gc/Tracer.cpp, home/ubuntu/shell-cache...                  5   \n",
       "...                                                  ...                ...   \n",
       "12415  [fetch/orb/tentative/img-mime-types-coverage.t...                  1   \n",
       "12427  [usr/src/debug/gtk3-3.24.34-2.fc37.x86_64/gdk/...                  6   \n",
       "12431  [hg.mozilla.org/mozilla-central/raw-file/tip/l...                  4   \n",
       "12438  [mochitests/content/a11y/accessible/tests/moch...                  9   \n",
       "12464  [searchfox.org/mozilla-central/rev/f40d29a11f2...                  1   \n",
       "\n",
       "                                referenced_code_elements  \\\n",
       "6      [sentry.prod.mozaws.net/operations/nightly-js-...   \n",
       "22     [js_arena_malloc, home/ubuntu/shell-cache/js-6...   \n",
       "23     [ionScript=0x7fd80c3fe000, arrayType=js, store...   \n",
       "28     [hg.mozilla.org/mozilla-central/rev/27f0cd20a8...   \n",
       "32     [doTrace, dispatchToOnEdge, newCompartment, ne...   \n",
       "...                                                  ...   \n",
       "12415  [06.239Z, Content-Type, ORB, 06.181Z, assert_u...   \n",
       "12427  [bp-a56bba93-fac0-41c1-8408-7eee10221105, wl_d...   \n",
       "12431  [MOZ_LOG=signaling, 23.375Z, treeherder.mozill...   \n",
       "12438  [self._format_status, INFO, needinfo_regressio...   \n",
       "12464  [QA, archive.mozilla.org/pub/firefox/nightly/l...   \n",
       "\n",
       "                                       parsed_references  parsed_counter  \\\n",
       "6                                                     []               0   \n",
       "22                                 [js/src/shell/js.cpp]               1   \n",
       "23                              [js/src/jit/CacheIR.cpp]               1   \n",
       "28     [js/src/jit-test/tests/fields/bug1562146.js, j...               2   \n",
       "32          [js/src/jit-test/tests/debug/bug-1564012.js]               1   \n",
       "...                                                  ...             ...   \n",
       "12415                                                 []               0   \n",
       "12427                                                 []               0   \n",
       "12431  [testing/web-platform/meta/css/css-contain/con...               1   \n",
       "12438  [testing/mozbase/mozlog/mozlog/formatters/mach...               1   \n",
       "12464                                                 []               0   \n",
       "\n",
       "         bug_ids                                          bug_files  \\\n",
       "6      {1453751}  [toolkit/components/extensions/test/mochitest/...   \n",
       "22     {1290287}  [js/src/vm/HelperThreads.h, js/src/vm/PosixNSP...   \n",
       "23     {1456569}  [js/src/vm/CommonPropertyNames.h, js/src/tests...   \n",
       "28     {1529772}  [js/src/tests/jstests.list, js/src/jit-test/te...   \n",
       "32     {1560754}  [js/src/jit-test/tests/debug/bug1557343-2.js, ...   \n",
       "...          ...                                                ...   \n",
       "12415  {1785331}  [netwerk/test/unit_ipc/test_orb_empty_header_w...   \n",
       "12427  {1796130}  [widget/gtk/WaylandVsyncSource.cpp, widget/gtk...   \n",
       "12431  {1797424}  [testing/web-platform/meta/xhr/xmlhttprequest-...   \n",
       "12438  {1744340}  [third_party/python/blessings/blessings-1.7.di...   \n",
       "12464  {1519339}  [gfx/layers/apz/test/mochitest/test_group_main...   \n",
       "\n",
       "                                   parsed_bug_references  ...  \\\n",
       "6                      [browser/base/content/browser.js]  ...   \n",
       "22     [js/src/vm/HelperThreads.h, js/src/vm/PosixNSP...  ...   \n",
       "23     [js/src/jit/IonTypes.h, js/src/jit/MacroAssemb...  ...   \n",
       "28     [js/src/jit-test/tests/fields/error.js, js/src...  ...   \n",
       "32         [js/src/jit-test/tests/debug/bug1557343-2.js]  ...   \n",
       "...                                                  ...  ...   \n",
       "12415  [testing/web-platform/tests/fetch/orb/tentativ...  ...   \n",
       "12427  [widget/gtk/WaylandVsyncSource.cpp, widget/gtk...  ...   \n",
       "12431  [testing/web-platform/meta/css/css-contain/con...  ...   \n",
       "12438  [third_party/python/blessed/blessed/colorspace...  ...   \n",
       "12464  [layout/generic/nsGfxScrollFrame.h, layout/gen...  ...   \n",
       "\n",
       "       has_valuable_reference has_strict_repo_valuable_reference  \\\n",
       "6                        True                              False   \n",
       "22                       True                              False   \n",
       "23                       True                              False   \n",
       "28                       True                              False   \n",
       "32                       True                              False   \n",
       "...                       ...                                ...   \n",
       "12415                    True                              False   \n",
       "12427                    True                              False   \n",
       "12431                    True                              False   \n",
       "12438                    True                              False   \n",
       "12464                    True                              False   \n",
       "\n",
       "       has_relaxed_repo_valuable_reference extrinsic_bug  extrinsic_reference  \\\n",
       "6                                    False          True                 True   \n",
       "22                                   False          True                 True   \n",
       "23                                   False          True                 True   \n",
       "28                                    True          True                 True   \n",
       "32                                   False          True                 True   \n",
       "...                                    ...           ...                  ...   \n",
       "12415                                 True          True                 True   \n",
       "12427                                False          True                 True   \n",
       "12431                                False          True                 True   \n",
       "12438                                False          True                 True   \n",
       "12464                                False          True                 True   \n",
       "\n",
       "       included_subset  same_set  reduced_noise  is_linkable  \\\n",
       "6                False     False          False        False   \n",
       "22                True      True          False        False   \n",
       "23                True      True          False        False   \n",
       "28                True      True          False        False   \n",
       "32                True      True          False        False   \n",
       "...                ...       ...            ...          ...   \n",
       "12415            False     False          False        False   \n",
       "12427            False     False          False        False   \n",
       "12431             True      True          False        False   \n",
       "12438             True      True          False        False   \n",
       "12464            False     False          False        False   \n",
       "\n",
       "       is_linkable_with_ref  \n",
       "6                      True  \n",
       "22                     True  \n",
       "23                     True  \n",
       "28                     True  \n",
       "32                     True  \n",
       "...                     ...  \n",
       "12415                  True  \n",
       "12427                  True  \n",
       "12431                  True  \n",
       "12438                  True  \n",
       "12464                  True  \n",
       "\n",
       "[1436 rows x 33 columns]"
      ]
     },
     "execution_count": 172,
     "metadata": {},
     "output_type": "execute_result"
    }
   ],
   "source": [
    "extrinsic_bug"
   ]
  },
  {
   "cell_type": "code",
   "execution_count": 172,
   "metadata": {
    "collapsed": false,
    "jupyter": {
     "outputs_hidden": false
    }
   },
   "outputs": [],
   "source": []
  }
 ],
 "metadata": {
  "kernelspec": {
   "display_name": "Python 3 (ipykernel)",
   "language": "python",
   "name": "python3"
  },
  "language_info": {
   "codemirror_mode": {
    "name": "ipython",
    "version": 3
   },
   "file_extension": ".py",
   "mimetype": "text/x-python",
   "name": "python",
   "nbconvert_exporter": "python",
   "pygments_lexer": "ipython3",
   "version": "3.9.16"
  }
 },
 "nbformat": 4,
 "nbformat_minor": 4
}
